{
 "cells": [
  {
   "cell_type": "markdown",
   "metadata": {},
   "source": [
    "# Amazon Product Reviews Classification"
   ]
  },
  {
   "cell_type": "markdown",
   "metadata": {},
   "source": [
    "## Load Libraries & Data"
   ]
  },
  {
   "cell_type": "code",
   "execution_count": 1,
   "metadata": {},
   "outputs": [
    {
     "name": "stderr",
     "output_type": "stream",
     "text": [
      "/anaconda3/lib/python3.7/site-packages/sklearn/ensemble/weight_boosting.py:29: DeprecationWarning: numpy.core.umath_tests is an internal NumPy module and should not be imported. It will be removed in a future NumPy release.\n",
      "  from numpy.core.umath_tests import inner1d\n"
     ]
    }
   ],
   "source": [
    "import string\n",
    "import pandas as pd\n",
    "import matplotlib.pyplot as plt\n",
    "import numpy as np\n",
    "import seaborn as sns\n",
    "from datetime import datetime\n",
    "from nltk.corpus import stopwords \n",
    "from nltk.tokenize import word_tokenize, RegexpTokenizer\n",
    "from textblob import TextBlob \n",
    "from sklearn.model_selection import train_test_split\n",
    "from sklearn.preprocessing import StandardScaler\n",
    "from sklearn.svm import SVC, LinearSVC\n",
    "from sklearn.metrics import accuracy_score, confusion_matrix\n",
    "from sklearn.neighbors import KNeighborsClassifier\n",
    "from sklearn.ensemble import RandomForestClassifier, AdaBoostClassifier, VotingClassifier\n",
    "from sklearn.naive_bayes import GaussianNB\n",
    "from sklearn.discriminant_analysis import LinearDiscriminantAnalysis, QuadraticDiscriminantAnalysis\n",
    "from sklearn.tree import DecisionTreeClassifier\n",
    "from sklearn.feature_selection import VarianceThreshold\n",
    "from sklearn.multiclass import OneVsOneClassifier\n",
    "from sklearn.linear_model import Perceptron\n",
    "from sklearn.feature_extraction.text import TfidfVectorizer"
   ]
  },
  {
   "cell_type": "code",
   "execution_count": 2,
   "metadata": {},
   "outputs": [],
   "source": [
    "seed = 125\n",
    "data = pd.read_csv('~/data/reviews_training.csv', index_col=0)"
   ]
  },
  {
   "cell_type": "code",
   "execution_count": 3,
   "metadata": {},
   "outputs": [
    {
     "data": {
      "text/html": [
       "<div>\n",
       "<style scoped>\n",
       "    .dataframe tbody tr th:only-of-type {\n",
       "        vertical-align: middle;\n",
       "    }\n",
       "\n",
       "    .dataframe tbody tr th {\n",
       "        vertical-align: top;\n",
       "    }\n",
       "\n",
       "    .dataframe thead th {\n",
       "        text-align: right;\n",
       "    }\n",
       "</style>\n",
       "<table border=\"1\" class=\"dataframe\">\n",
       "  <thead>\n",
       "    <tr style=\"text-align: right;\">\n",
       "      <th></th>\n",
       "      <th>asin</th>\n",
       "      <th>helpful</th>\n",
       "      <th>overall</th>\n",
       "      <th>reviewText</th>\n",
       "      <th>reviewTime</th>\n",
       "      <th>reviewerID</th>\n",
       "      <th>reviewerName</th>\n",
       "      <th>summary</th>\n",
       "      <th>unixReviewTime</th>\n",
       "      <th>Label</th>\n",
       "    </tr>\n",
       "  </thead>\n",
       "  <tbody>\n",
       "    <tr>\n",
       "      <th>33456</th>\n",
       "      <td>B00689J5PI</td>\n",
       "      <td>[0, 1]</td>\n",
       "      <td>4.0</td>\n",
       "      <td>I saw Rihanna perform this on American Idol an...</td>\n",
       "      <td>02 12, 2013</td>\n",
       "      <td>A1PQ1PESSO8CMO</td>\n",
       "      <td>Ginger Christmas</td>\n",
       "      <td>Good song</td>\n",
       "      <td>1360627200</td>\n",
       "      <td>4</td>\n",
       "    </tr>\n",
       "    <tr>\n",
       "      <th>51604</th>\n",
       "      <td>B000KIPT30</td>\n",
       "      <td>[0, 0]</td>\n",
       "      <td>3.0</td>\n",
       "      <td>My title says it all.  I didn't like the AC ad...</td>\n",
       "      <td>03 16, 2014</td>\n",
       "      <td>A18LZ6VHS4DK69</td>\n",
       "      <td>Wesley Newell</td>\n",
       "      <td>It worked, but should be usb powered</td>\n",
       "      <td>1394928000</td>\n",
       "      <td>5</td>\n",
       "    </tr>\n",
       "    <tr>\n",
       "      <th>20590</th>\n",
       "      <td>B001CH2X5K</td>\n",
       "      <td>[3, 3]</td>\n",
       "      <td>4.0</td>\n",
       "      <td>We have had this slide chair for 2+ months now...</td>\n",
       "      <td>05 14, 2010</td>\n",
       "      <td>A14QSFDZJXEXMI</td>\n",
       "      <td>H. Flowers</td>\n",
       "      <td>Excellent for an active baby, but be careful o...</td>\n",
       "      <td>1273795200</td>\n",
       "      <td>3</td>\n",
       "    </tr>\n",
       "    <tr>\n",
       "      <th>57999</th>\n",
       "      <td>B002Z9JWZ8</td>\n",
       "      <td>[1, 1]</td>\n",
       "      <td>5.0</td>\n",
       "      <td>I don't own the SRH840s, but rather the SRH440...</td>\n",
       "      <td>07 3, 2013</td>\n",
       "      <td>A3K6M4WXNTYQEM</td>\n",
       "      <td>Keane O'Kelley</td>\n",
       "      <td>Great upgrade for SRH440!</td>\n",
       "      <td>1372809600</td>\n",
       "      <td>5</td>\n",
       "    </tr>\n",
       "    <tr>\n",
       "      <th>7653</th>\n",
       "      <td>B0009H51MG</td>\n",
       "      <td>[0, 0]</td>\n",
       "      <td>5.0</td>\n",
       "      <td>I like Fram Air Filters (not oil ones) and thi...</td>\n",
       "      <td>02 11, 2010</td>\n",
       "      <td>A1U8MWMH8RNYUV</td>\n",
       "      <td>C. Snead \"STi  Mtn  Man\"</td>\n",
       "      <td>Excellent OEM Replacement</td>\n",
       "      <td>1265846400</td>\n",
       "      <td>2</td>\n",
       "    </tr>\n",
       "  </tbody>\n",
       "</table>\n",
       "</div>"
      ],
      "text/plain": [
       "             asin helpful  overall  \\\n",
       "33456  B00689J5PI  [0, 1]      4.0   \n",
       "51604  B000KIPT30  [0, 0]      3.0   \n",
       "20590  B001CH2X5K  [3, 3]      4.0   \n",
       "57999  B002Z9JWZ8  [1, 1]      5.0   \n",
       "7653   B0009H51MG  [0, 0]      5.0   \n",
       "\n",
       "                                              reviewText   reviewTime  \\\n",
       "33456  I saw Rihanna perform this on American Idol an...  02 12, 2013   \n",
       "51604  My title says it all.  I didn't like the AC ad...  03 16, 2014   \n",
       "20590  We have had this slide chair for 2+ months now...  05 14, 2010   \n",
       "57999  I don't own the SRH840s, but rather the SRH440...   07 3, 2013   \n",
       "7653   I like Fram Air Filters (not oil ones) and thi...  02 11, 2010   \n",
       "\n",
       "           reviewerID              reviewerName  \\\n",
       "33456  A1PQ1PESSO8CMO          Ginger Christmas   \n",
       "51604  A18LZ6VHS4DK69             Wesley Newell   \n",
       "20590  A14QSFDZJXEXMI                H. Flowers   \n",
       "57999  A3K6M4WXNTYQEM            Keane O'Kelley   \n",
       "7653   A1U8MWMH8RNYUV  C. Snead \"STi  Mtn  Man\"   \n",
       "\n",
       "                                                 summary  unixReviewTime  \\\n",
       "33456                                          Good song      1360627200   \n",
       "51604               It worked, but should be usb powered      1394928000   \n",
       "20590  Excellent for an active baby, but be careful o...      1273795200   \n",
       "57999                          Great upgrade for SRH440!      1372809600   \n",
       "7653                           Excellent OEM Replacement      1265846400   \n",
       "\n",
       "       Label  \n",
       "33456      4  \n",
       "51604      5  \n",
       "20590      3  \n",
       "57999      5  \n",
       "7653       2  "
      ]
     },
     "execution_count": 3,
     "metadata": {},
     "output_type": "execute_result"
    }
   ],
   "source": [
    "data.head()"
   ]
  },
  {
   "cell_type": "code",
   "execution_count": 4,
   "metadata": {},
   "outputs": [
    {
     "name": "stdout",
     "output_type": "stream",
     "text": [
      "<class 'pandas.core.frame.DataFrame'>\n",
      "Int64Index: 45500 entries, 33456 to 13229\n",
      "Data columns (total 10 columns):\n",
      "asin              45500 non-null object\n",
      "helpful           45500 non-null object\n",
      "overall           45500 non-null float64\n",
      "reviewText        45486 non-null object\n",
      "reviewTime        45500 non-null object\n",
      "reviewerID        45500 non-null object\n",
      "reviewerName      45312 non-null object\n",
      "summary           45500 non-null object\n",
      "unixReviewTime    45500 non-null int64\n",
      "Label             45500 non-null int64\n",
      "dtypes: float64(1), int64(2), object(7)\n",
      "memory usage: 3.8+ MB\n"
     ]
    }
   ],
   "source": [
    "data.info()"
   ]
  },
  {
   "cell_type": "markdown",
   "metadata": {},
   "source": [
    "Missing data in the reviewText and reviewerName columns"
   ]
  },
  {
   "cell_type": "code",
   "execution_count": 5,
   "metadata": {},
   "outputs": [
    {
     "data": {
      "text/plain": [
       "count    45500.000000\n",
       "mean         4.317868\n",
       "std          1.040274\n",
       "min          1.000000\n",
       "25%          4.000000\n",
       "50%          5.000000\n",
       "75%          5.000000\n",
       "max          5.000000\n",
       "Name: overall, dtype: float64"
      ]
     },
     "execution_count": 5,
     "metadata": {},
     "output_type": "execute_result"
    }
   ],
   "source": [
    "data.overall.describe()"
   ]
  },
  {
   "cell_type": "markdown",
   "metadata": {},
   "source": [
    "## Feature Exploration"
   ]
  },
  {
   "cell_type": "markdown",
   "metadata": {},
   "source": [
    "### Individual"
   ]
  },
  {
   "cell_type": "markdown",
   "metadata": {},
   "source": [
    "#### Label"
   ]
  },
  {
   "cell_type": "code",
   "execution_count": 6,
   "metadata": {},
   "outputs": [
    {
     "data": {
      "image/png": "[encoded data removed]",
      "text/plain": [
       "<Figure size 432x288 with 1 Axes>"
      ]
     },
     "metadata": {
      "needs_background": "light"
     },
     "output_type": "display_data"
    }
   ],
   "source": [
    "df = data.Label.value_counts().reset_index()\n",
    "df.columns = ['Label', 'Count']\n",
    "df.sort_values('Label', inplace=True)\n",
    "df.set_index('Label', inplace=True)\n",
    "df.plot(kind='bar')\n",
    "plt.xticks(rotation=0)\n",
    "plt.legend().set_visible(False)\n",
    "plt.ylabel('Count')\n",
    "plt.title('Distribution of Product Categories (Labels)')\n",
    "plt.show()"
   ]
  },
  {
   "cell_type": "markdown",
   "metadata": {},
   "source": [
    "There is class imbalance. A large proportion of the labels are 4. We will need to downsample or upsample the data before modeling."
   ]
  },
  {
   "cell_type": "markdown",
   "metadata": {},
   "source": [
    "#### Product Ratings"
   ]
  },
  {
   "cell_type": "code",
   "execution_count": 7,
   "metadata": {},
   "outputs": [
    {
     "data": {
      "image/png": "[encoded data removed]",
      "text/plain": [
       "<Figure size 432x288 with 1 Axes>"
      ]
     },
     "metadata": {
      "needs_background": "light"
     },
     "output_type": "display_data"
    }
   ],
   "source": [
    "df = data.overall.value_counts().reset_index()\n",
    "df.columns = ['Rating', 'Count']\n",
    "df.sort_values('Rating', inplace=True)\n",
    "df.set_index('Rating', inplace=True)\n",
    "df.plot(kind='bar')\n",
    "plt.xticks(rotation=0)\n",
    "plt.legend().set_visible(False)\n",
    "plt.ylabel('Count')\n",
    "plt.title('Distribution of Product Ratings')\n",
    "plt.show()"
   ]
  },
  {
   "cell_type": "markdown",
   "metadata": {},
   "source": [
    "#### Product IDs"
   ]
  },
  {
   "cell_type": "code",
   "execution_count": 8,
   "metadata": {},
   "outputs": [
    {
     "name": "stdout",
     "output_type": "stream",
     "text": [
      "There are 45500 total products and 11699 unique products.\n"
     ]
    }
   ],
   "source": [
    "num_prods = len(data.asin)\n",
    "num_prods_unique = len(data.asin.unique())\n",
    "\n",
    "print('There are {} total products and {} unique products.'.format(num_prods, num_prods_unique))"
   ]
  },
  {
   "cell_type": "code",
   "execution_count": 9,
   "metadata": {},
   "outputs": [
    {
     "name": "stderr",
     "output_type": "stream",
     "text": [
      "/anaconda3/lib/python3.7/site-packages/scipy/stats/stats.py:1713: FutureWarning: Using a non-tuple sequence for multidimensional indexing is deprecated; use `arr[tuple(seq)]` instead of `arr[seq]`. In the future this will be interpreted as an array index, `arr[np.array(seq)]`, which will result either in an error or a different result.\n",
      "  return np.add.reduce(sorted[indexer] * weights, axis=axis) / sumval\n"
     ]
    },
    {
     "data": {
      "image/png": "[encoded data removed]",
      "text/plain": [
       "<Figure size 576x288 with 1 Axes>"
      ]
     },
     "metadata": {
      "needs_background": "light"
     },
     "output_type": "display_data"
    }
   ],
   "source": [
    "plt.figure(figsize=(8,4))\n",
    "sns.distplot(data.asin.value_counts())\n",
    "plt.title('Histogram of Product IDs')\n",
    "plt.xlabel('Product ID Count')\n",
    "plt.ylabel('Frequency')\n",
    "plt.show()"
   ]
  },
  {
   "cell_type": "code",
   "execution_count": 10,
   "metadata": {},
   "outputs": [
    {
     "data": {
      "text/plain": [
       "B003VWJ2K8    120\n",
       "B0002E1G5C    104\n",
       "B0007NFL18     86\n",
       "B000084T18     84\n",
       "B0002F7K7Y     82\n",
       "B003VWKPHC     77\n",
       "B00005YW4H     71\n",
       "B000CITK8S     71\n",
       "B00004T9UF     59\n",
       "B0006ZQ9BS     59\n",
       "Name: asin, dtype: int64"
      ]
     },
     "execution_count": 10,
     "metadata": {},
     "output_type": "execute_result"
    }
   ],
   "source": [
    "data.asin.value_counts().head(10)"
   ]
  },
  {
   "cell_type": "code",
   "execution_count": 11,
   "metadata": {},
   "outputs": [
    {
     "data": {
      "text/plain": [
       "B005PK4ZHY    1\n",
       "B000002MBG    1\n",
       "B0032FOOQQ    1\n",
       "B000G2HSMA    1\n",
       "B002XLK22A    1\n",
       "B000002UFV    1\n",
       "B00008X35U    1\n",
       "B007BH1V1W    1\n",
       "B003EKAO1S    1\n",
       "B00439HF2A    1\n",
       "Name: asin, dtype: int64"
      ]
     },
     "execution_count": 11,
     "metadata": {},
     "output_type": "execute_result"
    }
   ],
   "source": [
    "data.asin.value_counts().tail(10)"
   ]
  },
  {
   "cell_type": "code",
   "execution_count": 12,
   "metadata": {},
   "outputs": [
    {
     "data": {
      "text/plain": [
       "count    11699.000000\n",
       "mean         3.889221\n",
       "std          5.694256\n",
       "min          1.000000\n",
       "25%          1.000000\n",
       "50%          2.000000\n",
       "75%          4.000000\n",
       "max        120.000000\n",
       "Name: asin, dtype: float64"
      ]
     },
     "execution_count": 12,
     "metadata": {},
     "output_type": "execute_result"
    }
   ],
   "source": [
    "data.asin.value_counts().describe()"
   ]
  },
  {
   "cell_type": "markdown",
   "metadata": {},
   "source": [
    "#### Reviewer IDs"
   ]
  },
  {
   "cell_type": "code",
   "execution_count": 13,
   "metadata": {},
   "outputs": [
    {
     "name": "stdout",
     "output_type": "stream",
     "text": [
      "There are 45500 total reviewer IDs and 7194 unique reviewer IDs.\n"
     ]
    }
   ],
   "source": [
    "num_rev = len(data.reviewerID)\n",
    "num_rev_unique = len(data.reviewerID.unique())\n",
    "\n",
    "print('There are {} total reviewer IDs and {} unique reviewer IDs.'.format(num_rev, num_rev_unique))"
   ]
  },
  {
   "cell_type": "code",
   "execution_count": 14,
   "metadata": {},
   "outputs": [
    {
     "name": "stderr",
     "output_type": "stream",
     "text": [
      "/anaconda3/lib/python3.7/site-packages/scipy/stats/stats.py:1713: FutureWarning: Using a non-tuple sequence for multidimensional indexing is deprecated; use `arr[tuple(seq)]` instead of `arr[seq]`. In the future this will be interpreted as an array index, `arr[np.array(seq)]`, which will result either in an error or a different result.\n",
      "  return np.add.reduce(sorted[indexer] * weights, axis=axis) / sumval\n"
     ]
    },
    {
     "data": {
      "image/png": "[encoded data removed]",
      "text/plain": [
       "<Figure size 576x288 with 1 Axes>"
      ]
     },
     "metadata": {
      "needs_background": "light"
     },
     "output_type": "display_data"
    }
   ],
   "source": [
    "plt.figure(figsize=(8,4))\n",
    "sns.distplot(data.reviewerID.value_counts())\n",
    "plt.title('Histogram of Reviewer IDs')\n",
    "plt.xlabel('Reviewer ID Count')\n",
    "plt.ylabel('Frequency')\n",
    "plt.show()"
   ]
  },
  {
   "cell_type": "code",
   "execution_count": 15,
   "metadata": {},
   "outputs": [
    {
     "data": {
      "text/plain": [
       "A1GN8UJIZLCA59    170\n",
       "A14GK0E64J0WAS    157\n",
       "A200C7YQJ45LRR    138\n",
       "A1J5KCZC8CMW9I    125\n",
       "A26NLSTT75FMJM    115\n",
       "A2582KMXLK2P06    113\n",
       "A1QEWOSV05RYEO    110\n",
       "A24N1BAS3CU27H    105\n",
       "A1IKOYZVFHO1XP    100\n",
       "A2ETZ7GF5B1712    100\n",
       "Name: reviewerID, dtype: int64"
      ]
     },
     "execution_count": 15,
     "metadata": {},
     "output_type": "execute_result"
    }
   ],
   "source": [
    "data.reviewerID.value_counts().head(10)"
   ]
  },
  {
   "cell_type": "code",
   "execution_count": 16,
   "metadata": {},
   "outputs": [
    {
     "data": {
      "text/plain": [
       "A33CYHP1759V4W    1\n",
       "A2HVJSTFR0M8GL    1\n",
       "A2M56XGFARVRDJ    1\n",
       "A24FCRSK4MJWZ9    1\n",
       "A1J9RW7V666J3U    1\n",
       "A1W8LGW2E1BVIS    1\n",
       "A1HKBVOZ6VS1AN    1\n",
       "A23LCEFE2BWE5F    1\n",
       "A2UV3UX5OEDUXB    1\n",
       "A22VYOT4RQ092Z    1\n",
       "Name: reviewerID, dtype: int64"
      ]
     },
     "execution_count": 16,
     "metadata": {},
     "output_type": "execute_result"
    }
   ],
   "source": [
    "data.reviewerID.value_counts().tail(10)"
   ]
  },
  {
   "cell_type": "code",
   "execution_count": 17,
   "metadata": {},
   "outputs": [
    {
     "data": {
      "text/plain": [
       "count    7194.000000\n",
       "mean        6.324715\n",
       "std         7.473922\n",
       "min         1.000000\n",
       "25%         4.000000\n",
       "50%         5.000000\n",
       "75%         6.000000\n",
       "max       170.000000\n",
       "Name: reviewerID, dtype: float64"
      ]
     },
     "execution_count": 17,
     "metadata": {},
     "output_type": "execute_result"
    }
   ],
   "source": [
    "data.reviewerID.value_counts().describe()"
   ]
  },
  {
   "cell_type": "markdown",
   "metadata": {},
   "source": [
    "#### Reviewer Names"
   ]
  },
  {
   "cell_type": "code",
   "execution_count": 18,
   "metadata": {},
   "outputs": [
    {
     "name": "stdout",
     "output_type": "stream",
     "text": [
      "There are 45500 total reviewer names and 6885 unique reviewer names.\n"
     ]
    }
   ],
   "source": [
    "num_name = len(data.reviewerName)\n",
    "num_name_unique = len(data.reviewerName.unique())\n",
    "\n",
    "print('There are {} total reviewer names and {} unique reviewer names.'.format(num_name, num_name_unique))"
   ]
  },
  {
   "cell_type": "markdown",
   "metadata": {},
   "source": [
    "There are more unique reviewer IDs than reviewer names (7194 vs 6885). But there is also missing data in the reviewerNames field."
   ]
  },
  {
   "cell_type": "code",
   "execution_count": 19,
   "metadata": {},
   "outputs": [
    {
     "name": "stdout",
     "output_type": "stream",
     "text": [
      "188 reviews are missing reviewer names.\n"
     ]
    }
   ],
   "source": [
    "num_name_miss = len(data.reviewerName) - len(data.reviewerName.dropna())\n",
    "print('{} reviews are missing reviewer names.'.format(num_name_miss))"
   ]
  },
  {
   "cell_type": "code",
   "execution_count": 20,
   "metadata": {},
   "outputs": [],
   "source": [
    "data['reviewerName'] = data.reviewerName.fillna('Unknown')"
   ]
  },
  {
   "cell_type": "code",
   "execution_count": 21,
   "metadata": {},
   "outputs": [
    {
     "name": "stderr",
     "output_type": "stream",
     "text": [
      "/anaconda3/lib/python3.7/site-packages/scipy/stats/stats.py:1713: FutureWarning: Using a non-tuple sequence for multidimensional indexing is deprecated; use `arr[tuple(seq)]` instead of `arr[seq]`. In the future this will be interpreted as an array index, `arr[np.array(seq)]`, which will result either in an error or a different result.\n",
      "  return np.add.reduce(sorted[indexer] * weights, axis=axis) / sumval\n"
     ]
    },
    {
     "data": {
      "image/png": "[encoded data removed]",
      "text/plain": [
       "<Figure size 576x288 with 1 Axes>"
      ]
     },
     "metadata": {
      "needs_background": "light"
     },
     "output_type": "display_data"
    }
   ],
   "source": [
    "plt.figure(figsize=(8,4))\n",
    "sns.distplot(data.reviewerName.value_counts())\n",
    "plt.title('Histogram of Reviewer Names')\n",
    "plt.xlabel('Reviewer Name Count')\n",
    "plt.ylabel('Frequency')\n",
    "plt.show()"
   ]
  },
  {
   "cell_type": "code",
   "execution_count": 22,
   "metadata": {},
   "outputs": [
    {
     "data": {
      "text/plain": [
       "Amazon Customer                                  316\n",
       "Unknown                                          188\n",
       "P Magnum                                         170\n",
       "Paul Allaer                                      157\n",
       "Anthony Rupert \"shut up, Shut Up, SHUT UP!!!\"    138\n",
       "H3@+h \"Over 1500 reviews!\"                       125\n",
       "B. E Jackson                                     113\n",
       "finulanu \"&#34;the mysterious&#34;\"              112\n",
       "Michael Brent Faulkner, Jr. \"Brent Faulkner\"     110\n",
       "Nse Ette                                         105\n",
       "Name: reviewerName, dtype: int64"
      ]
     },
     "execution_count": 22,
     "metadata": {},
     "output_type": "execute_result"
    }
   ],
   "source": [
    "data.reviewerName.value_counts().head(10)"
   ]
  },
  {
   "cell_type": "code",
   "execution_count": 23,
   "metadata": {},
   "outputs": [
    {
     "data": {
      "text/plain": [
       "Hpsweet                             1\n",
       "Jason W. Bellenger                  1\n",
       "S. Duncan \"Romantic Island Girl\"    1\n",
       "Tuco                                1\n",
       "Mark D. Davis                       1\n",
       "Goodrench                           1\n",
       "Fawkestear                          1\n",
       "Picky                               1\n",
       "R. A. Macgregor \"StreetRod\"         1\n",
       "Thomas Rogers                       1\n",
       "Name: reviewerName, dtype: int64"
      ]
     },
     "execution_count": 23,
     "metadata": {},
     "output_type": "execute_result"
    }
   ],
   "source": [
    "data.reviewerName.value_counts().tail(10)"
   ]
  },
  {
   "cell_type": "code",
   "execution_count": 24,
   "metadata": {},
   "outputs": [
    {
     "data": {
      "text/plain": [
       "count    6885.000000\n",
       "mean        6.608569\n",
       "std         8.961131\n",
       "min         1.000000\n",
       "25%         4.000000\n",
       "50%         5.000000\n",
       "75%         7.000000\n",
       "max       316.000000\n",
       "Name: reviewerName, dtype: float64"
      ]
     },
     "execution_count": 24,
     "metadata": {},
     "output_type": "execute_result"
    }
   ],
   "source": [
    "data.reviewerName.value_counts().describe()"
   ]
  },
  {
   "cell_type": "markdown",
   "metadata": {},
   "source": [
    "#### Review Time (raw)"
   ]
  },
  {
   "cell_type": "markdown",
   "metadata": {},
   "source": [
    "##### Year"
   ]
  },
  {
   "cell_type": "code",
   "execution_count": 25,
   "metadata": {},
   "outputs": [],
   "source": [
    "data['reviewYear'] = data.reviewTime.apply(lambda x: int(x.split(' ')[-1]))"
   ]
  },
  {
   "cell_type": "code",
   "execution_count": 26,
   "metadata": {},
   "outputs": [
    {
     "data": {
      "text/plain": [
       "count    45500.000000\n",
       "mean      2009.569297\n",
       "std          4.430578\n",
       "min       1998.000000\n",
       "25%       2005.000000\n",
       "50%       2012.000000\n",
       "75%       2013.000000\n",
       "max       2014.000000\n",
       "Name: reviewYear, dtype: float64"
      ]
     },
     "execution_count": 26,
     "metadata": {},
     "output_type": "execute_result"
    }
   ],
   "source": [
    "data.reviewYear.describe()"
   ]
  },
  {
   "cell_type": "code",
   "execution_count": 27,
   "metadata": {},
   "outputs": [
    {
     "data": {
      "image/png": "[encoded data removed]",
      "text/plain": [
       "<Figure size 576x288 with 1 Axes>"
      ]
     },
     "metadata": {
      "needs_background": "light"
     },
     "output_type": "display_data"
    }
   ],
   "source": [
    "df = data.reviewYear.value_counts().reset_index()\n",
    "df.columns = ['Review Year', 'Count']\n",
    "df.sort_values('Review Year', inplace=True)\n",
    "df.set_index('Review Year', inplace=True)\n",
    "df.plot(kind='bar', figsize=(8,4))\n",
    "plt.xticks(rotation=45)\n",
    "plt.legend().set_visible(False)\n",
    "plt.ylabel('Count')\n",
    "plt.title('Distribution of Review Years')\n",
    "plt.show()"
   ]
  },
  {
   "cell_type": "markdown",
   "metadata": {},
   "source": [
    "##### Month"
   ]
  },
  {
   "cell_type": "code",
   "execution_count": 28,
   "metadata": {},
   "outputs": [],
   "source": [
    "data['reviewMonth'] = data.reviewTime.apply(lambda x: x.split(' ')[0])"
   ]
  },
  {
   "cell_type": "code",
   "execution_count": 29,
   "metadata": {},
   "outputs": [
    {
     "data": {
      "text/plain": [
       "count     45500\n",
       "unique       12\n",
       "top          01\n",
       "freq       4443\n",
       "Name: reviewMonth, dtype: object"
      ]
     },
     "execution_count": 29,
     "metadata": {},
     "output_type": "execute_result"
    }
   ],
   "source": [
    "data.reviewMonth.describe()"
   ]
  },
  {
   "cell_type": "code",
   "execution_count": 30,
   "metadata": {},
   "outputs": [
    {
     "data": {
      "image/png": "[encoded data removed]",
      "text/plain": [
       "<Figure size 576x288 with 1 Axes>"
      ]
     },
     "metadata": {
      "needs_background": "light"
     },
     "output_type": "display_data"
    }
   ],
   "source": [
    "df = data.reviewMonth.value_counts().reset_index()\n",
    "df.columns = ['Review Month', 'Count']\n",
    "df.sort_values('Review Month', inplace=True)\n",
    "df.set_index('Review Month', inplace=True)\n",
    "df.plot(kind='bar', figsize=(8,4))\n",
    "months = ['Jan', 'Feb', 'Mar', 'Apr', 'May', 'June', 'July', 'Aug', 'Sept', 'Oct', 'Nov', 'Dec']\n",
    "plt.xticks(range(0,12), months, rotation=0)\n",
    "plt.legend().set_visible(False)\n",
    "plt.ylabel('Count')\n",
    "plt.title('Distribution of Review Months')\n",
    "plt.show()"
   ]
  },
  {
   "cell_type": "markdown",
   "metadata": {},
   "source": [
    "#### Review Time (Unix)"
   ]
  },
  {
   "cell_type": "markdown",
   "metadata": {},
   "source": [
    "##### Day of Week"
   ]
  },
  {
   "cell_type": "code",
   "execution_count": 31,
   "metadata": {},
   "outputs": [],
   "source": [
    "data['DayOfWeek'] = data.unixReviewTime.apply(lambda x: datetime.fromtimestamp(x/1000).strftime(\"%A\"))"
   ]
  },
  {
   "cell_type": "code",
   "execution_count": 32,
   "metadata": {},
   "outputs": [
    {
     "data": {
      "image/png": "[encoded data removed]",
      "text/plain": [
       "<Figure size 576x288 with 1 Axes>"
      ]
     },
     "metadata": {
      "needs_background": "light"
     },
     "output_type": "display_data"
    }
   ],
   "source": [
    "df = data.DayOfWeek.value_counts().reset_index()\n",
    "df.columns = ['Review Day of Week', 'Count']\n",
    "days = ['Sunday','Monday','Tuesday','Wednesday','Thursday','Friday','Saturday']\n",
    "df.set_index('Review Day of Week', inplace=True)\n",
    "df = df.reindex(days)\n",
    "df.plot(kind='bar', figsize=(8,4))\n",
    "plt.xticks(rotation=0)\n",
    "plt.legend().set_visible(False)\n",
    "plt.ylabel('Count')\n",
    "plt.title('Distribution of Review Day of Weeks')\n",
    "plt.show()"
   ]
  },
  {
   "cell_type": "markdown",
   "metadata": {},
   "source": [
    "#### Helpful"
   ]
  },
  {
   "cell_type": "code",
   "execution_count": 33,
   "metadata": {},
   "outputs": [],
   "source": [
    "data['helpful'] = data.helpful.apply(lambda x: x.lstrip('[').rstrip(']').split(','))"
   ]
  },
  {
   "cell_type": "code",
   "execution_count": 34,
   "metadata": {},
   "outputs": [],
   "source": [
    "def helpful_divide(x):\n",
    "    try:\n",
    "        return float(int(x[0]))/int(x[1])\n",
    "    except ZeroDivisionError:\n",
    "        if int(x[0]) == int(x[1]) == 0:\n",
    "            return 'N/A'\n",
    "        else:\n",
    "            return 0"
   ]
  },
  {
   "cell_type": "code",
   "execution_count": 35,
   "metadata": {},
   "outputs": [],
   "source": [
    "data['helpfulPercentage'] = data.helpful.apply(lambda x: helpful_divide(x)) "
   ]
  },
  {
   "cell_type": "code",
   "execution_count": 36,
   "metadata": {},
   "outputs": [
    {
     "data": {
      "text/plain": [
       "count     45500\n",
       "unique      610\n",
       "top         N/A\n",
       "freq      20900\n",
       "Name: helpfulPercentage, dtype: object"
      ]
     },
     "execution_count": 36,
     "metadata": {},
     "output_type": "execute_result"
    }
   ],
   "source": [
    "data.helpfulPercentage.describe()"
   ]
  },
  {
   "cell_type": "code",
   "execution_count": 37,
   "metadata": {},
   "outputs": [
    {
     "data": {
      "image/png": "[encoded data removed]",
      "text/plain": [
       "<Figure size 432x288 with 1 Axes>"
      ]
     },
     "metadata": {
      "needs_background": "light"
     },
     "output_type": "display_data"
    }
   ],
   "source": [
    "data[data.helpfulPercentage!='N/A']['helpfulPercentage'].plot(kind='hist')\n",
    "plt.xlabel('Percentage Helpful')\n",
    "plt.title('Histogram of Helpful Percentage (Excluding N/A)')\n",
    "plt.show()"
   ]
  },
  {
   "cell_type": "code",
   "execution_count": 38,
   "metadata": {},
   "outputs": [],
   "source": [
    "def helpful_ranking(num):\n",
    "    if type(num) == str:\n",
    "        return 'N/A'\n",
    "    elif 0 <= num < 0.2:\n",
    "        return 1\n",
    "    elif 0.2 <= num < 0.4:\n",
    "        return 2\n",
    "    elif 0.4 <= num < 0.6:\n",
    "        return 3\n",
    "    elif 0.6 <= num < 0.8:\n",
    "        return 4\n",
    "    elif 0.8 <= num <= 1.0:\n",
    "        return 5"
   ]
  },
  {
   "cell_type": "code",
   "execution_count": 39,
   "metadata": {},
   "outputs": [],
   "source": [
    "data['helpfulRank'] = data.helpfulPercentage.apply(lambda x: helpful_ranking(x))"
   ]
  },
  {
   "cell_type": "markdown",
   "metadata": {},
   "source": [
    "#### Review Text"
   ]
  },
  {
   "cell_type": "code",
   "execution_count": 40,
   "metadata": {},
   "outputs": [],
   "source": [
    "data['reviewText'] = data.reviewText.str.lower()"
   ]
  },
  {
   "cell_type": "code",
   "execution_count": 41,
   "metadata": {},
   "outputs": [],
   "source": [
    "tokenizer = RegexpTokenizer(r'\\w+')\n",
    "stop_words = set(stopwords.words('english')) "
   ]
  },
  {
   "cell_type": "code",
   "execution_count": 42,
   "metadata": {},
   "outputs": [],
   "source": [
    "data['reviewText'] = data.reviewText.astype(str)\n",
    "data['reviewText'] = data.reviewText.apply(lambda x: word_tokenize(x))\n",
    "data['reviewText'] = data.reviewText.apply(lambda x: [w for w in x if not w in stop_words])\n",
    "data['reviewText'] = data.reviewText.apply(lambda x: [''.join(c for c in s if c not in string.punctuation) for s in x])\n",
    "data['reviewText'] = data.reviewText.apply(lambda x: [s for s in x if s])"
   ]
  },
  {
   "cell_type": "code",
   "execution_count": 43,
   "metadata": {},
   "outputs": [],
   "source": [
    "data['reviewLength'] = data.reviewText.apply(lambda x: len(x))"
   ]
  },
  {
   "cell_type": "markdown",
   "metadata": {},
   "source": [
    "#### Summary"
   ]
  },
  {
   "cell_type": "code",
   "execution_count": 44,
   "metadata": {},
   "outputs": [],
   "source": [
    "data['summary'] = data.summary.astype(str)\n",
    "data['summary'] = data.summary.apply(lambda x: TextBlob(x))"
   ]
  },
  {
   "cell_type": "code",
   "execution_count": 45,
   "metadata": {},
   "outputs": [],
   "source": [
    "def sentiment(blob):\n",
    "    for sentence in blob.sentences:\n",
    "        return sentence.sentiment.polarity"
   ]
  },
  {
   "cell_type": "code",
   "execution_count": 46,
   "metadata": {},
   "outputs": [],
   "source": [
    "data['sentimentSummary'] = data.summary.apply(lambda x: sentiment(x))"
   ]
  },
  {
   "cell_type": "code",
   "execution_count": 47,
   "metadata": {},
   "outputs": [
    {
     "data": {
      "text/html": [
       "<div>\n",
       "<style scoped>\n",
       "    .dataframe tbody tr th:only-of-type {\n",
       "        vertical-align: middle;\n",
       "    }\n",
       "\n",
       "    .dataframe tbody tr th {\n",
       "        vertical-align: top;\n",
       "    }\n",
       "\n",
       "    .dataframe thead th {\n",
       "        text-align: right;\n",
       "    }\n",
       "</style>\n",
       "<table border=\"1\" class=\"dataframe\">\n",
       "  <thead>\n",
       "    <tr style=\"text-align: right;\">\n",
       "      <th></th>\n",
       "      <th>summary</th>\n",
       "      <th>sentimentSummary</th>\n",
       "    </tr>\n",
       "  </thead>\n",
       "  <tbody>\n",
       "    <tr>\n",
       "      <th>33456</th>\n",
       "      <td>(G, o, o, d,  , s, o, n, g)</td>\n",
       "      <td>0.700000</td>\n",
       "    </tr>\n",
       "    <tr>\n",
       "      <th>51604</th>\n",
       "      <td>(I, t,  , w, o, r, k, e, d, ,,  , b, u, t,  , ...</td>\n",
       "      <td>0.000000</td>\n",
       "    </tr>\n",
       "    <tr>\n",
       "      <th>20590</th>\n",
       "      <td>(E, x, c, e, l, l, e, n, t,  , f, o, r,  , a, ...</td>\n",
       "      <td>0.255556</td>\n",
       "    </tr>\n",
       "    <tr>\n",
       "      <th>57999</th>\n",
       "      <td>(G, r, e, a, t,  , u, p, g, r, a, d, e,  , f, ...</td>\n",
       "      <td>1.000000</td>\n",
       "    </tr>\n",
       "    <tr>\n",
       "      <th>7653</th>\n",
       "      <td>(E, x, c, e, l, l, e, n, t,  , O, E, M,  , R, ...</td>\n",
       "      <td>1.000000</td>\n",
       "    </tr>\n",
       "    <tr>\n",
       "      <th>922</th>\n",
       "      <td>(S, e, a, s, o, n,  , 5)</td>\n",
       "      <td>0.000000</td>\n",
       "    </tr>\n",
       "    <tr>\n",
       "      <th>40148</th>\n",
       "      <td>(G, l, o, o, m, y,  , a, n, d,  , n, i, c, e, ...</td>\n",
       "      <td>0.600000</td>\n",
       "    </tr>\n",
       "    <tr>\n",
       "      <th>33179</th>\n",
       "      <td>(T, h, i, s,  , i, s,  , t, h, e,  , p, e, a, ...</td>\n",
       "      <td>0.000000</td>\n",
       "    </tr>\n",
       "    <tr>\n",
       "      <th>11269</th>\n",
       "      <td>(C, o, b, r, a,  , D, e, l, u, x,  , J, r,  , ...</td>\n",
       "      <td>0.000000</td>\n",
       "    </tr>\n",
       "    <tr>\n",
       "      <th>8413</th>\n",
       "      <td>(T, h, e,  , B, E, S, T)</td>\n",
       "      <td>1.000000</td>\n",
       "    </tr>\n",
       "  </tbody>\n",
       "</table>\n",
       "</div>"
      ],
      "text/plain": [
       "                                                 summary  sentimentSummary\n",
       "33456                        (G, o, o, d,  , s, o, n, g)          0.700000\n",
       "51604  (I, t,  , w, o, r, k, e, d, ,,  , b, u, t,  , ...          0.000000\n",
       "20590  (E, x, c, e, l, l, e, n, t,  , f, o, r,  , a, ...          0.255556\n",
       "57999  (G, r, e, a, t,  , u, p, g, r, a, d, e,  , f, ...          1.000000\n",
       "7653   (E, x, c, e, l, l, e, n, t,  , O, E, M,  , R, ...          1.000000\n",
       "922                             (S, e, a, s, o, n,  , 5)          0.000000\n",
       "40148  (G, l, o, o, m, y,  , a, n, d,  , n, i, c, e, ...          0.600000\n",
       "33179  (T, h, i, s,  , i, s,  , t, h, e,  , p, e, a, ...          0.000000\n",
       "11269  (C, o, b, r, a,  , D, e, l, u, x,  , J, r,  , ...          0.000000\n",
       "8413                            (T, h, e,  , B, E, S, T)          1.000000"
      ]
     },
     "execution_count": 47,
     "metadata": {},
     "output_type": "execute_result"
    }
   ],
   "source": [
    "data[['summary', 'sentimentSummary']].head(10)"
   ]
  },
  {
   "cell_type": "code",
   "execution_count": 48,
   "metadata": {},
   "outputs": [
    {
     "data": {
      "image/png": "[encoded data removed]",
      "text/plain": [
       "<Figure size 432x288 with 1 Axes>"
      ]
     },
     "metadata": {
      "needs_background": "light"
     },
     "output_type": "display_data"
    }
   ],
   "source": [
    "data.sentimentSummary.plot(kind='hist')\n",
    "plt.xlabel('Sentiment of Review Summary')\n",
    "plt.title('Histogram of Sentiments of Review Summaries')\n",
    "plt.show()"
   ]
  },
  {
   "cell_type": "markdown",
   "metadata": {},
   "source": [
    "### Multiple"
   ]
  },
  {
   "cell_type": "code",
   "execution_count": 49,
   "metadata": {},
   "outputs": [
    {
     "data": {
      "image/png": "[encoded data removed]",
      "text/plain": [
       "<Figure size 576x432 with 2 Axes>"
      ]
     },
     "metadata": {
      "needs_background": "light"
     },
     "output_type": "display_data"
    }
   ],
   "source": [
    "df = pd.DataFrame(data.groupby(['overall', 'Label']).size())\n",
    "df.columns = ['Count']\n",
    "df.reset_index(inplace=True)\n",
    "df.rename(index=str, columns={'overall': 'Rating'}, inplace=True)\n",
    "df = df.pivot('Rating', 'Label', 'Count').fillna(0)\n",
    "\n",
    "plt.figure(figsize=(8,6))\n",
    "sns.heatmap(df, annot=True, fmt='d', cmap='YlGnBu')\n",
    "plt.title('Count of Ratings per Product Category (Label)')\n",
    "plt.xlabel('Product Category (Label)')\n",
    "plt.yticks(rotation=0)\n",
    "plt.show()"
   ]
  },
  {
   "cell_type": "code",
   "execution_count": 50,
   "metadata": {},
   "outputs": [
    {
     "data": {
      "image/png": "[encoded data removed]",
      "text/plain": [
       "<Figure size 576x432 with 2 Axes>"
      ]
     },
     "metadata": {
      "needs_background": "light"
     },
     "output_type": "display_data"
    }
   ],
   "source": [
    "df = pd.DataFrame(data.groupby(['reviewYear', 'Label']).size())\n",
    "df.columns = ['Count']\n",
    "df.reset_index(inplace=True)\n",
    "df.rename(index=str, columns={'reviewYear': 'Year'}, inplace=True)\n",
    "df = df.pivot('Year', 'Label', 'Count').fillna(0).astype(int)\n",
    "\n",
    "plt.figure(figsize=(8,6))\n",
    "sns.heatmap(df, annot=True, fmt='d', cmap='YlGnBu')\n",
    "plt.title('Count of Reviews per Year grouped by Product Category (Label)')\n",
    "plt.xlabel('Product Category (Label)')\n",
    "plt.yticks(rotation=0)\n",
    "plt.show()"
   ]
  },
  {
   "cell_type": "code",
   "execution_count": 51,
   "metadata": {},
   "outputs": [
    {
     "data": {
      "image/png": "[encoded data removed]",
      "text/plain": [
       "<Figure size 576x432 with 2 Axes>"
      ]
     },
     "metadata": {
      "needs_background": "light"
     },
     "output_type": "display_data"
    }
   ],
   "source": [
    "df = pd.DataFrame(data.groupby(['DayOfWeek', 'Label']).size())\n",
    "df.columns = ['Count']\n",
    "df.reset_index(inplace=True)\n",
    "df = df.pivot('DayOfWeek', 'Label', 'Count').fillna(0).astype(int)\n",
    "df = df.reindex(days)\n",
    "\n",
    "plt.figure(figsize=(8,6))\n",
    "sns.heatmap(df, annot=True, fmt='d', cmap='YlGnBu')\n",
    "plt.title('Count of Reviews per Day of Week grouped by Product Category (Label)')\n",
    "plt.xlabel('Product Category (Label)')\n",
    "plt.ylabel('Day of Week')\n",
    "plt.yticks(rotation=0)\n",
    "plt.show()"
   ]
  },
  {
   "cell_type": "code",
   "execution_count": 52,
   "metadata": {},
   "outputs": [
    {
     "data": {
      "text/html": [
       "<div>\n",
       "<style scoped>\n",
       "    .dataframe tbody tr th:only-of-type {\n",
       "        vertical-align: middle;\n",
       "    }\n",
       "\n",
       "    .dataframe tbody tr th {\n",
       "        vertical-align: top;\n",
       "    }\n",
       "\n",
       "    .dataframe thead th {\n",
       "        text-align: right;\n",
       "    }\n",
       "</style>\n",
       "<table border=\"1\" class=\"dataframe\">\n",
       "  <thead>\n",
       "    <tr style=\"text-align: right;\">\n",
       "      <th></th>\n",
       "      <th>overall</th>\n",
       "      <th>reviewYear</th>\n",
       "      <th>reviewLength</th>\n",
       "      <th>sentimentSummary</th>\n",
       "      <th>Label</th>\n",
       "    </tr>\n",
       "  </thead>\n",
       "  <tbody>\n",
       "    <tr>\n",
       "      <th>overall</th>\n",
       "      <td>1.000000</td>\n",
       "      <td>0.085502</td>\n",
       "      <td>-0.042731</td>\n",
       "      <td>0.291971</td>\n",
       "      <td>0.002132</td>\n",
       "    </tr>\n",
       "    <tr>\n",
       "      <th>reviewYear</th>\n",
       "      <td>0.085502</td>\n",
       "      <td>1.000000</td>\n",
       "      <td>-0.327348</td>\n",
       "      <td>0.129334</td>\n",
       "      <td>-0.202015</td>\n",
       "    </tr>\n",
       "    <tr>\n",
       "      <th>reviewLength</th>\n",
       "      <td>-0.042731</td>\n",
       "      <td>-0.327348</td>\n",
       "      <td>1.000000</td>\n",
       "      <td>-0.103182</td>\n",
       "      <td>0.087455</td>\n",
       "    </tr>\n",
       "    <tr>\n",
       "      <th>sentimentSummary</th>\n",
       "      <td>0.291971</td>\n",
       "      <td>0.129334</td>\n",
       "      <td>-0.103182</td>\n",
       "      <td>1.000000</td>\n",
       "      <td>-0.010209</td>\n",
       "    </tr>\n",
       "    <tr>\n",
       "      <th>Label</th>\n",
       "      <td>0.002132</td>\n",
       "      <td>-0.202015</td>\n",
       "      <td>0.087455</td>\n",
       "      <td>-0.010209</td>\n",
       "      <td>1.000000</td>\n",
       "    </tr>\n",
       "  </tbody>\n",
       "</table>\n",
       "</div>"
      ],
      "text/plain": [
       "                   overall  reviewYear  reviewLength  sentimentSummary  \\\n",
       "overall           1.000000    0.085502     -0.042731          0.291971   \n",
       "reviewYear        0.085502    1.000000     -0.327348          0.129334   \n",
       "reviewLength     -0.042731   -0.327348      1.000000         -0.103182   \n",
       "sentimentSummary  0.291971    0.129334     -0.103182          1.000000   \n",
       "Label             0.002132   -0.202015      0.087455         -0.010209   \n",
       "\n",
       "                     Label  \n",
       "overall           0.002132  \n",
       "reviewYear       -0.202015  \n",
       "reviewLength      0.087455  \n",
       "sentimentSummary -0.010209  \n",
       "Label             1.000000  "
      ]
     },
     "execution_count": 52,
     "metadata": {},
     "output_type": "execute_result"
    }
   ],
   "source": [
    "data[['overall', 'reviewYear', 'reviewLength', 'sentimentSummary', 'Label']].corr()"
   ]
  },
  {
   "cell_type": "markdown",
   "metadata": {},
   "source": [
    "## Model Selection"
   ]
  },
  {
   "cell_type": "markdown",
   "metadata": {},
   "source": [
    "### Formatting"
   ]
  },
  {
   "cell_type": "code",
   "execution_count": 53,
   "metadata": {},
   "outputs": [],
   "source": [
    "data['overall'] = data.overall.astype(str)\n",
    "data['reviewYear'] = data.reviewYear.astype(str)"
   ]
  },
  {
   "cell_type": "markdown",
   "metadata": {},
   "source": [
    "### Downsample for Balanced Classes"
   ]
  },
  {
   "cell_type": "code",
   "execution_count": 54,
   "metadata": {},
   "outputs": [
    {
     "data": {
      "text/plain": [
       "(12480, 17)"
      ]
     },
     "execution_count": 54,
     "metadata": {},
     "output_type": "execute_result"
    }
   ],
   "source": [
    "data1= data[data.Label == 1]\n",
    "n = len(data1)\n",
    "data2 = data[data.Label == 2].sample(n=n, replace=False, random_state=seed, axis=0)\n",
    "data3 = data[data.Label == 3].sample(n=n, replace=False, random_state=seed, axis=0)\n",
    "data4 = data[data.Label == 4].sample(n=n, replace=False, random_state=seed, axis=0)\n",
    "data5 = data[data.Label == 5].sample(n=n, replace=False, random_state=seed, axis=0)\n",
    "data6 = data[data.Label == 6].sample(n=n, replace=False, random_state=seed, axis=0)\n",
    "\n",
    "data_resamp = pd.concat([data1,data2,data3,data4,data5,data6])\n",
    "data_resamp.shape"
   ]
  },
  {
   "cell_type": "markdown",
   "metadata": {},
   "source": [
    "### Train/Dev/Test Split (60/20/20)"
   ]
  },
  {
   "cell_type": "code",
   "execution_count": 55,
   "metadata": {},
   "outputs": [
    {
     "name": "stdout",
     "output_type": "stream",
     "text": [
      "original data (45500, 17)\n",
      "resampled data (12480, 17)\n",
      "X_train (8736, 16)\n",
      "y_train (8736,)\n",
      "X_dev (1246, 16)\n",
      "y_dev (1246,)\n",
      "X_test (2498, 16)\n",
      "y_test (2498,)\n"
     ]
    }
   ],
   "source": [
    "X = data_resamp.loc[:, data_resamp.columns!='Label']\n",
    "y = data_resamp.Label\n",
    "\n",
    "X_train, X_test, y_train, y_test = train_test_split(X, y, test_size=0.3, random_state=seed)\n",
    "\n",
    "X_dev, X_test, y_dev, y_test = train_test_split(X_test, y_test, test_size=0.667, random_state=seed)\n",
    "\n",
    "print('original data', data.shape)\n",
    "print('resampled data', data_resamp.shape)\n",
    "print('X_train', X_train.shape)\n",
    "print('y_train', y_train.shape)\n",
    "print('X_dev', X_dev.shape)\n",
    "print('y_dev', y_dev.shape)\n",
    "print('X_test', X_test.shape)\n",
    "print('y_test', y_test.shape)"
   ]
  },
  {
   "cell_type": "markdown",
   "metadata": {},
   "source": [
    "### Standardize Numeric Features\n",
    "\n",
    "0 mean, unit variance"
   ]
  },
  {
   "cell_type": "code",
   "execution_count": 56,
   "metadata": {},
   "outputs": [
    {
     "name": "stderr",
     "output_type": "stream",
     "text": [
      "/anaconda3/lib/python3.7/site-packages/sklearn/utils/validation.py:475: DataConversionWarning: Data with input dtype int64 was converted to float64 by StandardScaler.\n",
      "  warnings.warn(msg, DataConversionWarning)\n",
      "/anaconda3/lib/python3.7/site-packages/sklearn/utils/validation.py:475: DataConversionWarning: Data with input dtype int64 was converted to float64 by StandardScaler.\n",
      "  warnings.warn(msg, DataConversionWarning)\n",
      "/anaconda3/lib/python3.7/site-packages/sklearn/utils/validation.py:475: DataConversionWarning: Data with input dtype int64 was converted to float64 by StandardScaler.\n",
      "  warnings.warn(msg, DataConversionWarning)\n",
      "/anaconda3/lib/python3.7/site-packages/sklearn/utils/validation.py:475: DataConversionWarning: Data with input dtype int64 was converted to float64 by StandardScaler.\n",
      "  warnings.warn(msg, DataConversionWarning)\n"
     ]
    }
   ],
   "source": [
    "scalerReviewLength = StandardScaler()\n",
    "reviewLengthScaledTrain = scalerReviewLength.fit_transform(X_train.reviewLength.values.reshape(-1,1))\n",
    "reviewLengthScaledTrain = [x for sublist in reviewLengthScaledTrain for x in sublist]\n",
    "\n",
    "reviewLengthScaledDev = scalerReviewLength.transform(X_dev.reviewLength.values.reshape(-1,1))\n",
    "reviewLengthScaledDev = [x for sublist in reviewLengthScaledDev for x in sublist]\n",
    "\n",
    "reviewLengthScaledTest = scalerReviewLength.transform(X_test.reviewLength.values.reshape(-1,1))\n",
    "reviewLengthScaledTest = [x for sublist in reviewLengthScaledTest for x in sublist]"
   ]
  },
  {
   "cell_type": "code",
   "execution_count": 57,
   "metadata": {},
   "outputs": [],
   "source": [
    "scalerSentiment = StandardScaler()\n",
    "sentimentScaledTrain = scalerSentiment.fit_transform(X_train.sentimentSummary.values.reshape(-1,1))\n",
    "sentimentScaledTrain = [x for sublist in sentimentScaledTrain for x in sublist]\n",
    "\n",
    "sentimentScaledDev = scalerSentiment.transform(X_dev.sentimentSummary.values.reshape(-1,1))\n",
    "sentimentScaledDev = [x for sublist in sentimentScaledDev for x in sublist]\n",
    "\n",
    "sentimentScaledTest = scalerSentiment.transform(X_test.sentimentSummary.values.reshape(-1,1))\n",
    "sentimentScaledTest = [x for sublist in sentimentScaledTest for x in sublist]"
   ]
  },
  {
   "cell_type": "code",
   "execution_count": 58,
   "metadata": {},
   "outputs": [],
   "source": [
    "X_train_numeric = pd.DataFrame({'reviewLength': reviewLengthScaledTrain, 'sentimentSummary': sentimentScaledTrain})\n",
    "X_dev_numeric = pd.DataFrame({'reviewLength': reviewLengthScaledDev, 'sentimentSummary': sentimentScaledDev})\n",
    "X_test_numeric = pd.DataFrame({'reviewLength': reviewLengthScaledTest, 'sentimentSummary': sentimentScaledTest})"
   ]
  },
  {
   "cell_type": "markdown",
   "metadata": {},
   "source": [
    "### Convert Categorical Features to Dummy Variables"
   ]
  },
  {
   "cell_type": "code",
   "execution_count": 59,
   "metadata": {},
   "outputs": [
    {
     "name": "stdout",
     "output_type": "stream",
     "text": [
      "X_train_dummies (8736, 9781)\n"
     ]
    }
   ],
   "source": [
    "dummy_cols = ['asin', 'reviewerName', 'overall', 'reviewYear', 'reviewMonth', 'DayOfWeek', 'helpfulRank']\n",
    "\n",
    "X_train_dummies = pd.get_dummies(X_train[dummy_cols])\n",
    "\n",
    "print('X_train_dummies', X_train_dummies.shape)"
   ]
  },
  {
   "cell_type": "code",
   "execution_count": 60,
   "metadata": {},
   "outputs": [
    {
     "name": "stdout",
     "output_type": "stream",
     "text": [
      "X_dev_dummies (1246, 2166)\n"
     ]
    }
   ],
   "source": [
    "X_dev_dummies = pd.get_dummies(X_dev[dummy_cols])\n",
    "print('X_dev_dummies', X_dev_dummies.shape)"
   ]
  },
  {
   "cell_type": "code",
   "execution_count": 61,
   "metadata": {},
   "outputs": [
    {
     "name": "stdout",
     "output_type": "stream",
     "text": [
      "X_test_dummies (2498, 4012)\n"
     ]
    }
   ],
   "source": [
    "X_test_dummies = pd.get_dummies(X_test[dummy_cols])\n",
    "print('X_test_dummies', X_test_dummies.shape)"
   ]
  },
  {
   "cell_type": "code",
   "execution_count": 62,
   "metadata": {},
   "outputs": [
    {
     "data": {
      "text/plain": [
       "(1246, 9781)"
      ]
     },
     "execution_count": 62,
     "metadata": {},
     "output_type": "execute_result"
    }
   ],
   "source": [
    "zeros = np.setdiff1d(X_train_dummies.columns, X_dev_dummies.columns)\n",
    "df_zeros = pd.DataFrame(columns=zeros)\n",
    "df_merged = pd.concat([X_dev_dummies, df_zeros], axis=1).fillna(0)[X_train_dummies.columns]\n",
    "df_merged.shape"
   ]
  },
  {
   "cell_type": "code",
   "execution_count": 63,
   "metadata": {},
   "outputs": [
    {
     "data": {
      "text/plain": [
       "(2498, 9781)"
      ]
     },
     "execution_count": 63,
     "metadata": {},
     "output_type": "execute_result"
    }
   ],
   "source": [
    "zeros = np.setdiff1d(X_train_dummies.columns, X_test_dummies.columns)\n",
    "df_zeros = pd.DataFrame(columns=zeros)\n",
    "df_merged1 = pd.concat([X_test_dummies, df_zeros], axis=1).fillna(0)[X_train_dummies.columns]\n",
    "df_merged1.shape"
   ]
  },
  {
   "cell_type": "markdown",
   "metadata": {},
   "source": [
    "### TF-IDF"
   ]
  },
  {
   "cell_type": "code",
   "execution_count": 64,
   "metadata": {},
   "outputs": [],
   "source": [
    "vectorizer = TfidfVectorizer()\n",
    "corpus = X_train.reviewText.apply(lambda x: ' '.join(x))\n",
    "tfidf_matrix = vectorizer.fit_transform(corpus)\n",
    "df_tfidf_train = pd.DataFrame(tfidf_matrix.todense())\n",
    "df_tfidf_train.columns = vectorizer.get_feature_names()\n",
    "\n",
    "corpus = X_dev.reviewText.apply(lambda x: ' '.join(x))\n",
    "tfidf_matrix = vectorizer.transform(corpus)\n",
    "df_tfidf_dev = pd.DataFrame(tfidf_matrix.todense())\n",
    "df_tfidf_train.columns = vectorizer.get_feature_names()\n",
    "\n",
    "corpus = X_test.reviewText.apply(lambda x: ' '.join(x))\n",
    "tfidf_matrix = vectorizer.transform(corpus)\n",
    "df_tfidf_test = pd.DataFrame(tfidf_matrix.todense())\n",
    "df_tfidf_train.columns = vectorizer.get_feature_names()"
   ]
  },
  {
   "cell_type": "markdown",
   "metadata": {},
   "source": [
    "### Merge Back Together"
   ]
  },
  {
   "cell_type": "code",
   "execution_count": 65,
   "metadata": {},
   "outputs": [
    {
     "name": "stdout",
     "output_type": "stream",
     "text": [
      "X_train (8736, 49622)\n",
      "X_dev (1246, 49622)\n",
      "X_test (2498, 49622)\n"
     ]
    }
   ],
   "source": [
    "X_train_numeric.set_index(X_train_dummies.index, inplace=True)\n",
    "df_tfidf_train.set_index(X_train_dummies.index, inplace=True)\n",
    "X_train = pd.concat([X_train_numeric, X_train_dummies], axis=1)\n",
    "X_train = pd.concat([X_train, df_tfidf_train], axis=1)\n",
    "print('X_train', X_train.shape)\n",
    "\n",
    "X_dev_numeric.set_index(df_merged.index, inplace=True)\n",
    "df_tfidf_dev.set_index(df_merged.index, inplace=True)\n",
    "X_dev = pd.concat([X_dev_numeric, df_merged], axis=1)\n",
    "X_dev = pd.concat([X_dev, df_tfidf_dev], axis=1)\n",
    "print('X_dev', X_dev.shape)\n",
    "\n",
    "X_test_numeric.set_index(df_merged1.index, inplace=True)\n",
    "df_tfidf_test.set_index(df_merged1.index, inplace=True)\n",
    "X_test = pd.concat([X_test_numeric, df_merged1], axis=1)\n",
    "X_test = pd.concat([X_test, df_tfidf_test], axis=1)\n",
    "print('X_test', X_test.shape)"
   ]
  },
  {
   "cell_type": "code",
   "execution_count": 66,
   "metadata": {},
   "outputs": [
    {
     "data": {
      "text/html": [
       "<div>\n",
       "<style scoped>\n",
       "    .dataframe tbody tr th:only-of-type {\n",
       "        vertical-align: middle;\n",
       "    }\n",
       "\n",
       "    .dataframe tbody tr th {\n",
       "        vertical-align: top;\n",
       "    }\n",
       "\n",
       "    .dataframe thead th {\n",
       "        text-align: right;\n",
       "    }\n",
       "</style>\n",
       "<table border=\"1\" class=\"dataframe\">\n",
       "  <thead>\n",
       "    <tr style=\"text-align: right;\">\n",
       "      <th></th>\n",
       "      <th>reviewLength</th>\n",
       "      <th>sentimentSummary</th>\n",
       "      <th>asin_073533417X</th>\n",
       "      <th>asin_096625757X</th>\n",
       "      <th>asin_0975277324</th>\n",
       "      <th>asin_1223062341</th>\n",
       "      <th>asin_1223069192</th>\n",
       "      <th>asin_1564518531</th>\n",
       "      <th>asin_157982269X</th>\n",
       "      <th>asin_1581174837</th>\n",
       "      <th>...</th>\n",
       "      <th>zurg</th>\n",
       "      <th>zutons</th>\n",
       "      <th>zuwith</th>\n",
       "      <th>zwap</th>\n",
       "      <th>zwipes</th>\n",
       "      <th>zx3</th>\n",
       "      <th>zymol</th>\n",
       "      <th>zymolthere</th>\n",
       "      <th>zz</th>\n",
       "      <th>zzzzzzzzzzzzzz</th>\n",
       "    </tr>\n",
       "  </thead>\n",
       "  <tbody>\n",
       "    <tr>\n",
       "      <th>61329</th>\n",
       "      <td>-0.462957</td>\n",
       "      <td>-0.296393</td>\n",
       "      <td>0</td>\n",
       "      <td>0</td>\n",
       "      <td>0</td>\n",
       "      <td>0</td>\n",
       "      <td>0</td>\n",
       "      <td>0</td>\n",
       "      <td>0</td>\n",
       "      <td>0</td>\n",
       "      <td>...</td>\n",
       "      <td>0.0</td>\n",
       "      <td>0.0</td>\n",
       "      <td>0.0</td>\n",
       "      <td>0.0</td>\n",
       "      <td>0.0</td>\n",
       "      <td>0.0</td>\n",
       "      <td>0.0</td>\n",
       "      <td>0.0</td>\n",
       "      <td>0.0</td>\n",
       "      <td>0.0</td>\n",
       "    </tr>\n",
       "    <tr>\n",
       "      <th>18071</th>\n",
       "      <td>-0.406844</td>\n",
       "      <td>0.454541</td>\n",
       "      <td>0</td>\n",
       "      <td>0</td>\n",
       "      <td>0</td>\n",
       "      <td>0</td>\n",
       "      <td>0</td>\n",
       "      <td>0</td>\n",
       "      <td>0</td>\n",
       "      <td>0</td>\n",
       "      <td>...</td>\n",
       "      <td>0.0</td>\n",
       "      <td>0.0</td>\n",
       "      <td>0.0</td>\n",
       "      <td>0.0</td>\n",
       "      <td>0.0</td>\n",
       "      <td>0.0</td>\n",
       "      <td>0.0</td>\n",
       "      <td>0.0</td>\n",
       "      <td>0.0</td>\n",
       "      <td>0.0</td>\n",
       "    </tr>\n",
       "    <tr>\n",
       "      <th>62069</th>\n",
       "      <td>0.084144</td>\n",
       "      <td>1.723726</td>\n",
       "      <td>0</td>\n",
       "      <td>0</td>\n",
       "      <td>0</td>\n",
       "      <td>0</td>\n",
       "      <td>0</td>\n",
       "      <td>0</td>\n",
       "      <td>0</td>\n",
       "      <td>0</td>\n",
       "      <td>...</td>\n",
       "      <td>0.0</td>\n",
       "      <td>0.0</td>\n",
       "      <td>0.0</td>\n",
       "      <td>0.0</td>\n",
       "      <td>0.0</td>\n",
       "      <td>0.0</td>\n",
       "      <td>0.0</td>\n",
       "      <td>0.0</td>\n",
       "      <td>0.0</td>\n",
       "      <td>0.0</td>\n",
       "    </tr>\n",
       "    <tr>\n",
       "      <th>13795</th>\n",
       "      <td>-0.476985</td>\n",
       "      <td>1.469889</td>\n",
       "      <td>0</td>\n",
       "      <td>0</td>\n",
       "      <td>0</td>\n",
       "      <td>0</td>\n",
       "      <td>0</td>\n",
       "      <td>0</td>\n",
       "      <td>0</td>\n",
       "      <td>0</td>\n",
       "      <td>...</td>\n",
       "      <td>0.0</td>\n",
       "      <td>0.0</td>\n",
       "      <td>0.0</td>\n",
       "      <td>0.0</td>\n",
       "      <td>0.0</td>\n",
       "      <td>0.0</td>\n",
       "      <td>0.0</td>\n",
       "      <td>0.0</td>\n",
       "      <td>0.0</td>\n",
       "      <td>0.0</td>\n",
       "    </tr>\n",
       "    <tr>\n",
       "      <th>60044</th>\n",
       "      <td>-0.154336</td>\n",
       "      <td>-0.306969</td>\n",
       "      <td>0</td>\n",
       "      <td>0</td>\n",
       "      <td>0</td>\n",
       "      <td>0</td>\n",
       "      <td>0</td>\n",
       "      <td>0</td>\n",
       "      <td>0</td>\n",
       "      <td>0</td>\n",
       "      <td>...</td>\n",
       "      <td>0.0</td>\n",
       "      <td>0.0</td>\n",
       "      <td>0.0</td>\n",
       "      <td>0.0</td>\n",
       "      <td>0.0</td>\n",
       "      <td>0.0</td>\n",
       "      <td>0.0</td>\n",
       "      <td>0.0</td>\n",
       "      <td>0.0</td>\n",
       "      <td>0.0</td>\n",
       "    </tr>\n",
       "  </tbody>\n",
       "</table>\n",
       "<p>5 rows × 49622 columns</p>\n",
       "</div>"
      ],
      "text/plain": [
       "       reviewLength  sentimentSummary  asin_073533417X  asin_096625757X  \\\n",
       "61329     -0.462957         -0.296393                0                0   \n",
       "18071     -0.406844          0.454541                0                0   \n",
       "62069      0.084144          1.723726                0                0   \n",
       "13795     -0.476985          1.469889                0                0   \n",
       "60044     -0.154336         -0.306969                0                0   \n",
       "\n",
       "       asin_0975277324  asin_1223062341  asin_1223069192  asin_1564518531  \\\n",
       "61329                0                0                0                0   \n",
       "18071                0                0                0                0   \n",
       "62069                0                0                0                0   \n",
       "13795                0                0                0                0   \n",
       "60044                0                0                0                0   \n",
       "\n",
       "       asin_157982269X  asin_1581174837       ...        zurg  zutons  zuwith  \\\n",
       "61329                0                0       ...         0.0     0.0     0.0   \n",
       "18071                0                0       ...         0.0     0.0     0.0   \n",
       "62069                0                0       ...         0.0     0.0     0.0   \n",
       "13795                0                0       ...         0.0     0.0     0.0   \n",
       "60044                0                0       ...         0.0     0.0     0.0   \n",
       "\n",
       "       zwap  zwipes  zx3  zymol  zymolthere   zz  zzzzzzzzzzzzzz  \n",
       "61329   0.0     0.0  0.0    0.0         0.0  0.0             0.0  \n",
       "18071   0.0     0.0  0.0    0.0         0.0  0.0             0.0  \n",
       "62069   0.0     0.0  0.0    0.0         0.0  0.0             0.0  \n",
       "13795   0.0     0.0  0.0    0.0         0.0  0.0             0.0  \n",
       "60044   0.0     0.0  0.0    0.0         0.0  0.0             0.0  \n",
       "\n",
       "[5 rows x 49622 columns]"
      ]
     },
     "execution_count": 66,
     "metadata": {},
     "output_type": "execute_result"
    }
   ],
   "source": [
    "X_train.head()"
   ]
  },
  {
   "cell_type": "markdown",
   "metadata": {},
   "source": [
    "### Feature Selection"
   ]
  },
  {
   "cell_type": "code",
   "execution_count": 67,
   "metadata": {},
   "outputs": [
    {
     "name": "stdout",
     "output_type": "stream",
     "text": [
      "X_train (8736, 201)\n",
      "X_dev (1246, 201)\n",
      "X_test (2498, 201)\n"
     ]
    }
   ],
   "source": [
    "selector = VarianceThreshold(threshold=0.001)\n",
    "selector.fit(X_train)\n",
    "\n",
    "features = X_train[X_train.columns[selector.get_support(indices=True)]].columns\n",
    "\n",
    "X_train = pd.DataFrame(selector.transform(X_train), index=X_train.index)\n",
    "X_train.columns = features\n",
    "X_dev = pd.DataFrame(selector.transform(X_dev), index=X_dev.index)\n",
    "X_dev.columns = features\n",
    "X_test = pd.DataFrame(selector.transform(X_test), index=X_test.index)\n",
    "X_test.columns = features\n",
    "\n",
    "print('X_train', X_train.shape)\n",
    "print('X_dev', X_dev.shape)\n",
    "print('X_test', X_test.shape)"
   ]
  },
  {
   "cell_type": "markdown",
   "metadata": {},
   "source": [
    "### Tune Models"
   ]
  },
  {
   "cell_type": "code",
   "execution_count": 68,
   "metadata": {},
   "outputs": [],
   "source": [
    "def best_parameters(array):\n",
    "    max_acc = max([x['acc'] for x in array])\n",
    "    for d in array:\n",
    "        if d['acc'] == max_acc:\n",
    "            print(d)"
   ]
  },
  {
   "cell_type": "markdown",
   "metadata": {},
   "source": [
    "##### SVM"
   ]
  },
  {
   "cell_type": "code",
   "execution_count": 69,
   "metadata": {},
   "outputs": [],
   "source": [
    "# svc_list = []\n",
    "# for k in ['rbf', 'poly', 'sigmoid']:\n",
    "#     for c in [4, 3, 2, 1]:\n",
    "#         for g in ['auto', 0.5]:\n",
    "#             clf = OneVsOneClassifier(SVC(kernel=k, C=c, gamma=g, random_state=seed))\n",
    "#             clf.fit(X_train, y_train)\n",
    "#             y_pred = clf.predict(X_dev)\n",
    "#             acc = accuracy_score(y_dev, y_pred)\n",
    "\n",
    "#             svc_dict = {'kernel': k, 'c': c, 'gamma': g, 'acc': acc}\n",
    "#             svc_list.append(svc_dict)\n",
    "            \n",
    "# best_parameters(svc_list)"
   ]
  },
  {
   "cell_type": "code",
   "execution_count": 71,
   "metadata": {},
   "outputs": [
    {
     "name": "stdout",
     "output_type": "stream",
     "text": [
      "{'penalty': 'l2', 'c': 4, 'loss': 'squared_hinge', 'acc': 0.7849117174959872}\n",
      "{'penalty': 'l2', 'c': 3, 'loss': 'squared_hinge', 'acc': 0.7849117174959872}\n",
      "{'penalty': 'l2', 'c': 2.5, 'loss': 'squared_hinge', 'acc': 0.7849117174959872}\n"
     ]
    }
   ],
   "source": [
    "linear_svc_list = []\n",
    "for p in ['l2']:\n",
    "    for c in [4, 3.5, 3, 2.5, 2]:\n",
    "        for l in ['hinge', 'squared_hinge']:\n",
    "            clf = OneVsOneClassifier(LinearSVC(penalty=p, C=c, loss=l, random_state=seed))\n",
    "            clf.fit(X_train, y_train)\n",
    "            y_pred = clf.predict(X_dev)\n",
    "            acc = accuracy_score(y_dev, y_pred)\n",
    "\n",
    "            linear_svc_dict = {'penalty': p, 'c': c, 'loss': l, 'acc': acc}\n",
    "            linear_svc_list.append(linear_svc_dict)\n",
    "            \n",
    "best_parameters(linear_svc_list)"
   ]
  },
  {
   "cell_type": "code",
   "execution_count": 72,
   "metadata": {},
   "outputs": [
    {
     "name": "stdout",
     "output_type": "stream",
     "text": [
      "0.7849117174959872\n"
     ]
    }
   ],
   "source": [
    "clf = OneVsOneClassifier(LinearSVC(penalty='l2', C=2.5, loss='squared_hinge', random_state=seed))\n",
    "clf.fit(X_train, y_train)\n",
    "y_pred = clf.predict(X_dev)\n",
    "acc = accuracy_score(y_dev, y_pred)\n",
    "print(acc)"
   ]
  },
  {
   "cell_type": "code",
   "execution_count": 73,
   "metadata": {},
   "outputs": [
    {
     "data": {
      "image/png": "[encoded data removed]",
      "text/plain": [
       "<Figure size 576x432 with 2 Axes>"
      ]
     },
     "metadata": {
      "needs_background": "light"
     },
     "output_type": "display_data"
    }
   ],
   "source": [
    "labels = range(1,7)\n",
    "\n",
    "cm = confusion_matrix(y_dev, y_pred)\n",
    "plt.figure(figsize=(8,6))\n",
    "sns.heatmap(cm, annot=True, fmt='d', cmap='BuPu')\n",
    "plt.xlabel('Prediction')\n",
    "plt.xticks(range(0,6),labels)\n",
    "plt.yticks(range(0,6),labels)\n",
    "plt.ylabel('True')\n",
    "plt.title('Confusion Matrix - SVM')\n",
    "plt.show()"
   ]
  },
  {
   "cell_type": "markdown",
   "metadata": {},
   "source": [
    "##### k-NN"
   ]
  },
  {
   "cell_type": "code",
   "execution_count": 74,
   "metadata": {},
   "outputs": [
    {
     "name": "stdout",
     "output_type": "stream",
     "text": [
      "{'n_neighbors': 17, 'weights': 'distance', 'algorithm': 'auto', 'acc': 0.406099518459069}\n",
      "{'n_neighbors': 17, 'weights': 'distance', 'algorithm': 'ball_tree', 'acc': 0.406099518459069}\n",
      "{'n_neighbors': 17, 'weights': 'distance', 'algorithm': 'kd_tree', 'acc': 0.406099518459069}\n",
      "{'n_neighbors': 17, 'weights': 'distance', 'algorithm': 'brute', 'acc': 0.406099518459069}\n",
      "{'n_neighbors': 18, 'weights': 'distance', 'algorithm': 'auto', 'acc': 0.406099518459069}\n",
      "{'n_neighbors': 18, 'weights': 'distance', 'algorithm': 'ball_tree', 'acc': 0.406099518459069}\n",
      "{'n_neighbors': 18, 'weights': 'distance', 'algorithm': 'kd_tree', 'acc': 0.406099518459069}\n",
      "{'n_neighbors': 18, 'weights': 'distance', 'algorithm': 'brute', 'acc': 0.406099518459069}\n"
     ]
    }
   ],
   "source": [
    "# knn_list = []\n",
    "# for n in range(1,51):\n",
    "#     for w in ['uniform', 'distance']:\n",
    "#         for a in ['auto', 'ball_tree', 'kd_tree', 'brute']:\n",
    "#             clf = KNeighborsClassifier(n_neighbors=n, weights=w, algorithm=a)\n",
    "#             clf.fit(X_train, y_train)\n",
    "#             y_pred = clf.predict(X_dev)\n",
    "#             acc = accuracy_score(y_dev, y_pred)\n",
    "\n",
    "#             knn_dict = {'n_neighbors': n, 'weights': w, 'algorithm': a, 'acc': acc}\n",
    "#             knn_list.append(knn_dict)\n",
    "            \n",
    "# best_parameters(knn_list)"
   ]
  },
  {
   "cell_type": "code",
   "execution_count": 75,
   "metadata": {},
   "outputs": [
    {
     "name": "stdout",
     "output_type": "stream",
     "text": [
      "0.406099518459069\n"
     ]
    }
   ],
   "source": [
    "# clf = KNeighborsClassifier(n_neighbors=17, weights='distance', algorithm='auto')\n",
    "# clf.fit(X_train, y_train)\n",
    "# y_pred = clf.predict(X_dev)\n",
    "# acc = accuracy_score(y_dev, y_pred)\n",
    "# print(acc)"
   ]
  },
  {
   "cell_type": "code",
   "execution_count": 76,
   "metadata": {},
   "outputs": [
    {
     "data": {
      "image/png": "[encoded data removed]",
      "text/plain": [
       "<Figure size 576x432 with 2 Axes>"
      ]
     },
     "metadata": {
      "needs_background": "light"
     },
     "output_type": "display_data"
    }
   ],
   "source": [
    "# cm = confusion_matrix(y_dev, y_pred)\n",
    "# plt.figure(figsize=(8,6))\n",
    "# sns.heatmap(cm, annot=True, fmt='d', cmap='BuPu')\n",
    "# plt.xlabel('Prediction')\n",
    "# plt.xticks(range(0,6),labels)\n",
    "# plt.yticks(range(0,6),labels)\n",
    "# plt.ylabel('True')\n",
    "# plt.title('Confusion Matrix - kNN')\n",
    "# plt.show()"
   ]
  },
  {
   "cell_type": "markdown",
   "metadata": {},
   "source": [
    "##### Random Forest"
   ]
  },
  {
   "cell_type": "code",
   "execution_count": 78,
   "metadata": {},
   "outputs": [
    {
     "name": "stdout",
     "output_type": "stream",
     "text": [
      "{'n_estimators': 410, 'max_depth': None, 'acc': 0.7576243980738363}\n",
      "{'n_estimators': 411, 'max_depth': None, 'acc': 0.7576243980738363}\n"
     ]
    }
   ],
   "source": [
    "rf_list = []\n",
    "for d in [None,5,10]:\n",
    "    for n in range(405,416):\n",
    "        clf = RandomForestClassifier(n_estimators=n, max_depth=d, random_state=seed)\n",
    "        clf.fit(X_train, y_train)\n",
    "        y_pred = clf.predict(X_dev)\n",
    "        acc = accuracy_score(y_dev, y_pred)\n",
    "\n",
    "        rf_dict = {'n_estimators': n, 'max_depth': d, 'acc': acc}\n",
    "        rf_list.append(rf_dict)\n",
    "\n",
    "best_parameters(rf_list)"
   ]
  },
  {
   "cell_type": "code",
   "execution_count": 79,
   "metadata": {},
   "outputs": [
    {
     "name": "stdout",
     "output_type": "stream",
     "text": [
      "0.7576243980738363\n"
     ]
    }
   ],
   "source": [
    "clf = RandomForestClassifier(n_estimators=410, max_depth=None, random_state=seed)\n",
    "clf.fit(X_train, y_train)\n",
    "y_pred = clf.predict(X_dev)\n",
    "acc = accuracy_score(y_dev, y_pred)\n",
    "print(acc)"
   ]
  },
  {
   "cell_type": "code",
   "execution_count": 80,
   "metadata": {},
   "outputs": [
    {
     "data": {
      "image/png": "[encoded data removed]",
      "text/plain": [
       "<Figure size 576x432 with 2 Axes>"
      ]
     },
     "metadata": {
      "needs_background": "light"
     },
     "output_type": "display_data"
    }
   ],
   "source": [
    "cm = confusion_matrix(y_dev, y_pred)\n",
    "plt.figure(figsize=(8,6))\n",
    "sns.heatmap(cm, annot=True, fmt='d', cmap='BuPu')\n",
    "plt.xlabel('Prediction')\n",
    "plt.xticks(range(0,6),labels)\n",
    "plt.yticks(range(0,6),labels)\n",
    "plt.ylabel('True')\n",
    "plt.title('Confusion Matrix - Random Forest')\n",
    "plt.show()"
   ]
  },
  {
   "cell_type": "code",
   "execution_count": 81,
   "metadata": {},
   "outputs": [
    {
     "data": {
      "text/html": [
       "<div>\n",
       "<style scoped>\n",
       "    .dataframe tbody tr th:only-of-type {\n",
       "        vertical-align: middle;\n",
       "    }\n",
       "\n",
       "    .dataframe tbody tr th {\n",
       "        vertical-align: top;\n",
       "    }\n",
       "\n",
       "    .dataframe thead th {\n",
       "        text-align: right;\n",
       "    }\n",
       "</style>\n",
       "<table border=\"1\" class=\"dataframe\">\n",
       "  <thead>\n",
       "    <tr style=\"text-align: right;\">\n",
       "      <th></th>\n",
       "      <th>Feature</th>\n",
       "      <th>Importance</th>\n",
       "    </tr>\n",
       "  </thead>\n",
       "  <tbody>\n",
       "    <tr>\n",
       "      <th>143</th>\n",
       "      <td>album</td>\n",
       "      <td>0.052147</td>\n",
       "    </tr>\n",
       "    <tr>\n",
       "      <th>187</th>\n",
       "      <td>show</td>\n",
       "      <td>0.044056</td>\n",
       "    </tr>\n",
       "    <tr>\n",
       "      <th>0</th>\n",
       "      <td>reviewLength</td>\n",
       "      <td>0.038435</td>\n",
       "    </tr>\n",
       "    <tr>\n",
       "      <th>144</th>\n",
       "      <td>baby</td>\n",
       "      <td>0.037336</td>\n",
       "    </tr>\n",
       "    <tr>\n",
       "      <th>160</th>\n",
       "      <td>guitar</td>\n",
       "      <td>0.031413</td>\n",
       "    </tr>\n",
       "    <tr>\n",
       "      <th>1</th>\n",
       "      <td>sentimentSummary</td>\n",
       "      <td>0.028483</td>\n",
       "    </tr>\n",
       "    <tr>\n",
       "      <th>189</th>\n",
       "      <td>song</td>\n",
       "      <td>0.025131</td>\n",
       "    </tr>\n",
       "    <tr>\n",
       "      <th>183</th>\n",
       "      <td>season</td>\n",
       "      <td>0.022363</td>\n",
       "    </tr>\n",
       "    <tr>\n",
       "      <th>185</th>\n",
       "      <td>series</td>\n",
       "      <td>0.018878</td>\n",
       "    </tr>\n",
       "    <tr>\n",
       "      <th>170</th>\n",
       "      <td>nt</td>\n",
       "      <td>0.017071</td>\n",
       "    </tr>\n",
       "    <tr>\n",
       "      <th>195</th>\n",
       "      <td>use</td>\n",
       "      <td>0.017063</td>\n",
       "    </tr>\n",
       "    <tr>\n",
       "      <th>150</th>\n",
       "      <td>cd</td>\n",
       "      <td>0.016775</td>\n",
       "    </tr>\n",
       "    <tr>\n",
       "      <th>194</th>\n",
       "      <td>toy</td>\n",
       "      <td>0.015959</td>\n",
       "    </tr>\n",
       "    <tr>\n",
       "      <th>129</th>\n",
       "      <td>DayOfWeek_Friday</td>\n",
       "      <td>0.015635</td>\n",
       "    </tr>\n",
       "    <tr>\n",
       "      <th>190</th>\n",
       "      <td>sound</td>\n",
       "      <td>0.015135</td>\n",
       "    </tr>\n",
       "    <tr>\n",
       "      <th>149</th>\n",
       "      <td>car</td>\n",
       "      <td>0.014787</td>\n",
       "    </tr>\n",
       "    <tr>\n",
       "      <th>159</th>\n",
       "      <td>great</td>\n",
       "      <td>0.014716</td>\n",
       "    </tr>\n",
       "    <tr>\n",
       "      <th>165</th>\n",
       "      <td>loves</td>\n",
       "      <td>0.014666</td>\n",
       "    </tr>\n",
       "    <tr>\n",
       "      <th>172</th>\n",
       "      <td>one</td>\n",
       "      <td>0.013928</td>\n",
       "    </tr>\n",
       "    <tr>\n",
       "      <th>164</th>\n",
       "      <td>love</td>\n",
       "      <td>0.013702</td>\n",
       "    </tr>\n",
       "  </tbody>\n",
       "</table>\n",
       "</div>"
      ],
      "text/plain": [
       "              Feature  Importance\n",
       "143             album    0.052147\n",
       "187              show    0.044056\n",
       "0        reviewLength    0.038435\n",
       "144              baby    0.037336\n",
       "160            guitar    0.031413\n",
       "1    sentimentSummary    0.028483\n",
       "189              song    0.025131\n",
       "183            season    0.022363\n",
       "185            series    0.018878\n",
       "170                nt    0.017071\n",
       "195               use    0.017063\n",
       "150                cd    0.016775\n",
       "194               toy    0.015959\n",
       "129  DayOfWeek_Friday    0.015635\n",
       "190             sound    0.015135\n",
       "149               car    0.014787\n",
       "159             great    0.014716\n",
       "165             loves    0.014666\n",
       "172               one    0.013928\n",
       "164              love    0.013702"
      ]
     },
     "execution_count": 81,
     "metadata": {},
     "output_type": "execute_result"
    }
   ],
   "source": [
    "# Feature Importance\n",
    "d = {'Feature': X_train.columns, 'Importance': clf.feature_importances_}\n",
    "df_imp = pd.DataFrame(d).sort_values(ascending=False, by='Importance')\n",
    "df_imp.head(20)"
   ]
  },
  {
   "cell_type": "markdown",
   "metadata": {},
   "source": [
    "##### Naive Bayes"
   ]
  },
  {
   "cell_type": "code",
   "execution_count": 82,
   "metadata": {},
   "outputs": [
    {
     "data": {
      "text/plain": [
       "0.630016051364366"
      ]
     },
     "execution_count": 82,
     "metadata": {},
     "output_type": "execute_result"
    }
   ],
   "source": [
    "clf = GaussianNB()\n",
    "clf.fit(X_train, y_train)\n",
    "\n",
    "y_pred = clf.predict(X_dev)\n",
    "accuracy_score(y_dev, y_pred)"
   ]
  },
  {
   "cell_type": "code",
   "execution_count": 83,
   "metadata": {},
   "outputs": [
    {
     "data": {
      "image/png": "[encoded data removed]",
      "text/plain": [
       "<Figure size 576x432 with 2 Axes>"
      ]
     },
     "metadata": {
      "needs_background": "light"
     },
     "output_type": "display_data"
    }
   ],
   "source": [
    "cm = confusion_matrix(y_dev, y_pred)\n",
    "plt.figure(figsize=(8,6))\n",
    "sns.heatmap(cm, annot=True, fmt='d', cmap='BuPu')\n",
    "plt.xlabel('Prediction')\n",
    "plt.xticks(range(0,6),labels)\n",
    "plt.yticks(range(0,6),labels)\n",
    "plt.ylabel('True')\n",
    "plt.title('Confusion Matrix - Naive Bayes')\n",
    "plt.show()"
   ]
  },
  {
   "cell_type": "markdown",
   "metadata": {},
   "source": [
    "##### AdaBoost "
   ]
  },
  {
   "cell_type": "code",
   "execution_count": 84,
   "metadata": {},
   "outputs": [
    {
     "name": "stdout",
     "output_type": "stream",
     "text": [
      "{'n_estimators': 49, 'max_depth': 2, 'acc': 0.7704654895666132}\n"
     ]
    }
   ],
   "source": [
    "ada_list = []\n",
    "for d in [None,1,2,3,4,5]:\n",
    "    for n in range(40,51,1):\n",
    "        clf = OneVsOneClassifier(AdaBoostClassifier(DecisionTreeClassifier(max_depth=d), \n",
    "                                                    n_estimators=n, random_state=seed))\n",
    "        clf.fit(X_train, y_train)\n",
    "        y_pred = clf.predict(X_dev)\n",
    "        acc = accuracy_score(y_dev, y_pred)\n",
    "\n",
    "        ada_dict = {'n_estimators': n, 'max_depth': d, 'acc': acc}\n",
    "        ada_list.append(ada_dict)\n",
    "\n",
    "best_parameters(ada_list)"
   ]
  },
  {
   "cell_type": "code",
   "execution_count": 85,
   "metadata": {},
   "outputs": [
    {
     "name": "stdout",
     "output_type": "stream",
     "text": [
      "0.7704654895666132\n"
     ]
    }
   ],
   "source": [
    "clf = OneVsOneClassifier(AdaBoostClassifier(DecisionTreeClassifier(max_depth=2), \n",
    "                                                    n_estimators=49, random_state=seed))\n",
    "clf.fit(X_train, y_train)\n",
    "y_pred = clf.predict(X_dev)\n",
    "acc = accuracy_score(y_dev, y_pred)\n",
    "print(acc)"
   ]
  },
  {
   "cell_type": "code",
   "execution_count": 86,
   "metadata": {},
   "outputs": [
    {
     "data": {
      "image/png": "[encoded data removed]",
      "text/plain": [
       "<Figure size 576x432 with 2 Axes>"
      ]
     },
     "metadata": {
      "needs_background": "light"
     },
     "output_type": "display_data"
    }
   ],
   "source": [
    "cm = confusion_matrix(y_dev, y_pred)\n",
    "plt.figure(figsize=(8,6))\n",
    "sns.heatmap(cm, annot=True, fmt='d', cmap='BuPu')\n",
    "plt.xlabel('Prediction')\n",
    "plt.xticks(range(0,6),labels)\n",
    "plt.yticks(range(0,6),labels)\n",
    "plt.ylabel('True')\n",
    "plt.title('Confusion Matrix - AdaBoost')\n",
    "plt.show()"
   ]
  },
  {
   "cell_type": "markdown",
   "metadata": {},
   "source": [
    "##### Quadratic Dicsriminant Analysis"
   ]
  },
  {
   "cell_type": "code",
   "execution_count": 87,
   "metadata": {},
   "outputs": [],
   "source": [
    "# clf = QuadraticDiscriminantAnalysis()\n",
    "# clf.fit(X_train, y_train)\n",
    "\n",
    "# y_pred = clf.predict(X_dev)\n",
    "# accuracy_score(y_dev, y_pred)"
   ]
  },
  {
   "cell_type": "code",
   "execution_count": 88,
   "metadata": {},
   "outputs": [],
   "source": [
    "# cm = confusion_matrix(y_dev, y_pred)\n",
    "# plt.figure(figsize=(8,6))\n",
    "# sns.heatmap(cm, annot=True, fmt='d', cmap='BuPu')\n",
    "# plt.xlabel('Prediction')\n",
    "# plt.xticks(range(0,6),labels)\n",
    "# plt.yticks(range(0,6),labels)\n",
    "# plt.ylabel('True')\n",
    "# plt.title('Confusion Matrix - QDA')\n",
    "# plt.show()"
   ]
  },
  {
   "cell_type": "markdown",
   "metadata": {},
   "source": [
    "##### Linear Dicsriminant Analysis"
   ]
  },
  {
   "cell_type": "code",
   "execution_count": 89,
   "metadata": {},
   "outputs": [
    {
     "name": "stderr",
     "output_type": "stream",
     "text": [
      "/anaconda3/lib/python3.7/site-packages/sklearn/discriminant_analysis.py:442: UserWarning: The priors do not sum to 1. Renormalizing\n",
      "  UserWarning)\n",
      "/anaconda3/lib/python3.7/site-packages/sklearn/discriminant_analysis.py:388: UserWarning: Variables are collinear.\n",
      "  warnings.warn(\"Variables are collinear.\")\n"
     ]
    },
    {
     "data": {
      "text/plain": [
       "0.7463884430176565"
      ]
     },
     "execution_count": 89,
     "metadata": {},
     "output_type": "execute_result"
    }
   ],
   "source": [
    "clf = LinearDiscriminantAnalysis()\n",
    "clf.fit(X_train, y_train)\n",
    "\n",
    "y_pred = clf.predict(X_dev)\n",
    "accuracy_score(y_dev, y_pred)"
   ]
  },
  {
   "cell_type": "code",
   "execution_count": 90,
   "metadata": {},
   "outputs": [
    {
     "data": {
      "image/png": "[encoded data removed]",
      "text/plain": [
       "<Figure size 576x432 with 2 Axes>"
      ]
     },
     "metadata": {
      "needs_background": "light"
     },
     "output_type": "display_data"
    }
   ],
   "source": [
    "cm = confusion_matrix(y_dev, y_pred)\n",
    "plt.figure(figsize=(8,6))\n",
    "sns.heatmap(cm, annot=True, fmt='d', cmap='BuPu')\n",
    "plt.xlabel('Prediction')\n",
    "plt.xticks(range(0,6),labels)\n",
    "plt.yticks(range(0,6),labels)\n",
    "plt.ylabel('True')\n",
    "plt.title('Confusion Matrix - LDA')\n",
    "plt.show()"
   ]
  },
  {
   "cell_type": "markdown",
   "metadata": {},
   "source": [
    "##### Perceptron"
   ]
  },
  {
   "cell_type": "code",
   "execution_count": 91,
   "metadata": {},
   "outputs": [
    {
     "name": "stdout",
     "output_type": "stream",
     "text": [
      "{'penalty': 'l1', 'alpha': 0.0001, 'acc': 0.723916532905297}\n"
     ]
    }
   ],
   "source": [
    "perceptron_list = []\n",
    "for p in ['l1', 'l2', 'elasticnet']:\n",
    "    for a in [0.0001, 0.001]:\n",
    "        clf = OneVsOneClassifier(Perceptron(penalty=p, alpha=a, max_iter=1000))\n",
    "        clf.fit(X_train, y_train)\n",
    "        y_pred = clf.predict(X_dev)\n",
    "        acc = accuracy_score(y_dev, y_pred)\n",
    "\n",
    "        perceptron_dict = {'penalty':p, 'alpha': a, 'acc': acc}\n",
    "        perceptron_list.append(perceptron_dict)\n",
    "\n",
    "best_parameters(perceptron_list)"
   ]
  },
  {
   "cell_type": "code",
   "execution_count": 92,
   "metadata": {},
   "outputs": [
    {
     "name": "stdout",
     "output_type": "stream",
     "text": [
      "0.723916532905297\n"
     ]
    }
   ],
   "source": [
    "clf = OneVsOneClassifier(Perceptron(penalty='l1', alpha=0.0001, max_iter=1000))\n",
    "clf.fit(X_train, y_train)\n",
    "y_pred = clf.predict(X_dev)\n",
    "acc = accuracy_score(y_dev, y_pred)\n",
    "print(acc)"
   ]
  },
  {
   "cell_type": "code",
   "execution_count": 93,
   "metadata": {},
   "outputs": [
    {
     "data": {
      "image/png": "[encoded data removed]",
      "text/plain": [
       "<Figure size 576x432 with 2 Axes>"
      ]
     },
     "metadata": {
      "needs_background": "light"
     },
     "output_type": "display_data"
    }
   ],
   "source": [
    "cm = confusion_matrix(y_dev, y_pred)\n",
    "plt.figure(figsize=(8,6))\n",
    "sns.heatmap(cm, annot=True, fmt='d', cmap='BuPu')\n",
    "plt.xlabel('Prediction')\n",
    "plt.xticks(range(0,6),labels)\n",
    "plt.yticks(range(0,6),labels)\n",
    "plt.ylabel('True')\n",
    "plt.title('Confusion Matrix - Perceptron')\n",
    "plt.show()"
   ]
  },
  {
   "cell_type": "markdown",
   "metadata": {},
   "source": [
    "##### Voting Classifier"
   ]
  },
  {
   "cell_type": "code",
   "execution_count": 94,
   "metadata": {},
   "outputs": [
    {
     "name": "stdout",
     "output_type": "stream",
     "text": [
      "0.7857142857142857\n"
     ]
    },
    {
     "name": "stderr",
     "output_type": "stream",
     "text": [
      "/anaconda3/lib/python3.7/site-packages/sklearn/preprocessing/label.py:151: DeprecationWarning: The truth value of an empty array is ambiguous. Returning False, but in future this will result in an error. Use `array.size > 0` to check that an array is not empty.\n",
      "  if diff:\n"
     ]
    }
   ],
   "source": [
    "clf1 = OneVsOneClassifier(AdaBoostClassifier(DecisionTreeClassifier(max_depth=2), \n",
    "                                                    n_estimators=49, random_state=seed))\n",
    "clf2 = RandomForestClassifier(n_estimators=410, max_depth=None, random_state=seed)\n",
    "clf3 = OneVsOneClassifier(LinearSVC(penalty='l2', C=2.5, loss='squared_hinge', random_state=seed))\n",
    "\n",
    "eclf1 = VotingClassifier(estimators=[('ada', clf1), ('rf', clf2), ('svm', clf3)], voting='hard')\n",
    "eclf1 = eclf1.fit(X_train, y_train)\n",
    "\n",
    "y_pred = eclf1.predict(X_dev)\n",
    "acc = accuracy_score(y_dev, y_pred)\n",
    "\n",
    "print(acc)"
   ]
  },
  {
   "cell_type": "code",
   "execution_count": 95,
   "metadata": {},
   "outputs": [
    {
     "data": {
      "image/png": "[encoded data removed]",
      "text/plain": [
       "<Figure size 576x432 with 2 Axes>"
      ]
     },
     "metadata": {
      "needs_background": "light"
     },
     "output_type": "display_data"
    }
   ],
   "source": [
    "cm = confusion_matrix(y_dev, y_pred)\n",
    "plt.figure(figsize=(8,6))\n",
    "sns.heatmap(cm, annot=True, fmt='d', cmap='BuPu')\n",
    "plt.xlabel('Prediction')\n",
    "plt.xticks(range(0,6),labels)\n",
    "plt.yticks(range(0,6),labels)\n",
    "plt.ylabel('True')\n",
    "plt.title('Confusion Matrix - Voting Classifier')\n",
    "plt.show()"
   ]
  },
  {
   "cell_type": "markdown",
   "metadata": {},
   "source": [
    "## Model Assessment"
   ]
  },
  {
   "cell_type": "code",
   "execution_count": 96,
   "metadata": {},
   "outputs": [],
   "source": [
    "# Combine train & dev sets\n",
    "X_train = pd.concat([X_train, X_dev], axis=0)\n",
    "y_train = pd.concat([y_train, y_dev], axis=0)"
   ]
  },
  {
   "cell_type": "code",
   "execution_count": 97,
   "metadata": {},
   "outputs": [
    {
     "name": "stdout",
     "output_type": "stream",
     "text": [
      "SVM 0.765812650120096\n",
      "Random Forest 0.7429943955164131\n",
      "Naive Bayes 0.6080864691753403\n",
      "AdaBoost 0.7373899119295436\n"
     ]
    },
    {
     "name": "stderr",
     "output_type": "stream",
     "text": [
      "/anaconda3/lib/python3.7/site-packages/sklearn/discriminant_analysis.py:388: UserWarning: Variables are collinear.\n",
      "  warnings.warn(\"Variables are collinear.\")\n"
     ]
    },
    {
     "name": "stdout",
     "output_type": "stream",
     "text": [
      "LDA 0.7261809447558046\n",
      "Perceptron 0.732986389111289\n",
      "Voting Classifier 0.732986389111289\n"
     ]
    }
   ],
   "source": [
    "# SVM\n",
    "clf = OneVsOneClassifier(LinearSVC(penalty='l2', C=2.5, loss='squared_hinge', random_state=seed))\n",
    "clf.fit(X_train, y_train)\n",
    "y_pred = clf.predict(X_test)\n",
    "acc = accuracy_score(y_test, y_pred)\n",
    "print('SVM', acc)\n",
    "\n",
    "# # kNN\n",
    "# clf = KNeighborsClassifier(n_neighbors=44, weights='distance', algorithm='brute')\n",
    "# clf.fit(X_train, y_train)\n",
    "# y_pred = clf.predict(X_test)\n",
    "# acc = accuracy_score(y_test, y_pred)\n",
    "# print('kNN', acc)\n",
    "\n",
    "# Random Forest\n",
    "clf = RandomForestClassifier(n_estimators=410, max_depth=None, random_state=seed)\n",
    "clf.fit(X_train, y_train)\n",
    "y_pred = clf.predict(X_test)\n",
    "acc = accuracy_score(y_test, y_pred)\n",
    "print('Random Forest', acc)\n",
    "\n",
    "# Naive Bayes\n",
    "clf = GaussianNB()\n",
    "clf.fit(X_train, y_train)\n",
    "y_pred = clf.predict(X_test)\n",
    "acc = accuracy_score(y_test, y_pred)\n",
    "print('Naive Bayes', acc)\n",
    "\n",
    "# AdaBoost\n",
    "clf = OneVsOneClassifier(AdaBoostClassifier(DecisionTreeClassifier(max_depth=2), \n",
    "                                                    n_estimators=49, random_state=seed))\n",
    "clf.fit(X_train, y_train)\n",
    "y_pred = clf.predict(X_test)\n",
    "acc = accuracy_score(y_test, y_pred)\n",
    "print('AdaBoost', acc)\n",
    "\n",
    "# LDA\n",
    "clf = LinearDiscriminantAnalysis()\n",
    "clf.fit(X_train, y_train)\n",
    "y_pred = clf.predict(X_test)\n",
    "acc = accuracy_score(y_test, y_pred)\n",
    "print('LDA', acc)\n",
    "\n",
    "# Perceptron\n",
    "clf = OneVsOneClassifier(Perceptron(penalty='l1', alpha=0.0001, max_iter=1000))\n",
    "clf.fit(X_train, y_train)\n",
    "y_pred = clf.predict(X_test)\n",
    "acc = accuracy_score(y_test, y_pred)\n",
    "print('Perceptron', acc)\n",
    "\n",
    "# Voting Classifier\n",
    "clf1 = OneVsOneClassifier(AdaBoostClassifier(DecisionTreeClassifier(max_depth=2), \n",
    "                                                    n_estimators=49, random_state=seed))\n",
    "clf2 = RandomForestClassifier(n_estimators=410, max_depth=None, random_state=seed)\n",
    "clf3 = OneVsOneClassifier(LinearSVC(penalty='l2', C=2.5, loss='squared_hinge', random_state=seed))\n",
    "\n",
    "eclf1 = VotingClassifier(estimators=[('ada', clf1), ('rf', clf2), ('svm', clf3)], voting='hard')\n",
    "eclf1 = eclf1.fit(X_train, y_train)\n",
    "y_pred = clf.predict(X_test)\n",
    "acc = accuracy_score(y_test, y_pred)\n",
    "print('Voting Classifier', acc)"
   ]
  },
  {
   "cell_type": "code",
   "execution_count": null,
   "metadata": {},
   "outputs": [],
   "source": []
  }
 ],
 "metadata": {
  "kernelspec": {
   "display_name": "Python 3",
   "language": "python",
   "name": "python3"
  },
  "language_info": {
   "codemirror_mode": {
    "name": "ipython",
    "version": 3
   },
   "file_extension": ".py",
   "mimetype": "text/x-python",
   "name": "python",
   "nbconvert_exporter": "python",
   "pygments_lexer": "ipython3",
   "version": "3.7.0"
  }
 },
 "nbformat": 4,
 "nbformat_minor": 2
}
